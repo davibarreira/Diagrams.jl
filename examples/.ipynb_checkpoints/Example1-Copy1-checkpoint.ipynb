{
 "cells": [
  {
   "cell_type": "code",
   "execution_count": 48,
   "id": "df6a1d2d-6701-404e-9ebb-2c9b72f12ac6",
   "metadata": {},
   "outputs": [
    {
     "name": "stderr",
     "output_type": "stream",
     "text": [
      "\u001b[32m\u001b[1m  Activating\u001b[22m\u001b[39m project at `~/MEGA/EMAP/Diagrams.jl`\n"
     ]
    }
   ],
   "source": [
    "using Pkg, Revise\n",
    "Pkg.activate(\"../.\")\n",
    "using Luxor\n",
    "using Colors\n",
    "using Parameters\n",
    "using Diagrams\n",
    "using Hyperscript"
   ]
  },
  {
   "cell_type": "code",
   "execution_count": 49,
   "id": "f71d0581-8977-4362-b962-b70d43973c39",
   "metadata": {},
   "outputs": [],
   "source": [
    "abstract type Mark end"
   ]
  },
  {
   "cell_type": "code",
   "execution_count": 50,
   "id": "23006b22-6172-47d4-ac05-2c37eb7dee39",
   "metadata": {},
   "outputs": [],
   "source": [
    "abstract type Primitive <: Mark end"
   ]
  },
  {
   "cell_type": "code",
   "execution_count": 171,
   "id": "a14e2240-49b6-47bd-be26-06f7b84f90a5",
   "metadata": {},
   "outputs": [
    {
     "data": {
      "text/html": [
       "<svg height=\"170\" width=\"140\"><circle cy=\"95\" style=\"stroke: black; fill: none\" r=\"50\" cx=\"70\" /><circle cy=\"80\" stroke=\"black\" r=\"5\" fill=\"#339933\" cx=\"55\" /><circle cy=\"80\" stroke=\"black\" r=\"5\" fill=\"#339933\" cx=\"85\" /><g id=\"whiskers\"><line x1=\"75\" y1=\"95\" stroke=\"black\" x2=\"135\" y2=\"85\" /><line x1=\"75\" y1=\"95\" stroke=\"black\" x2=\"135\" y2=\"105\" /></g><circle cy=\"80\" stroke=\"black\" r=\"50\" fill=\"#339933\" cx=\"85\" /></svg>"
      ],
      "text/plain": [
       "<svg height=\"170\" width=\"140\"><circle cy=\"95\" style=\"stroke: black; fill: none\" r=\"50\" cx=\"70\" /><circle cy=\"80\" stroke=\"black\" r=\"5\" fill=\"#339933\" cx=\"55\" /><circle cy=\"80\" stroke=\"black\" r=\"5\" fill=\"#339933\" cx=\"85\" /><g id=\"whiskers\"><line x1=\"75\" y1=\"95\" stroke=\"black\" x2=\"135\" y2=\"85\" /><line x1=\"75\" y1=\"95\" stroke=\"black\" x2=\"135\" y2=\"105\" /></g><circle cy=\"80\" stroke=\"black\" r=\"50\" fill=\"#339933\" cx=\"85\" /></svg>"
      ]
     },
     "execution_count": 171,
     "metadata": {},
     "output_type": "execute_result"
    }
   ],
   "source": [
    "svg = m(\"svg\", width=140, height=170);\n",
    "svg = svg(m(\"circle\", cx=70, cy =95,r=50, style=\"stroke: black; fill: none\"))\n",
    "svg = svg(m(\"circle\", cx=55, cy =80,r=5, stroke=\"black\", fill=\"#339933\"))\n",
    "svg = svg(m(\"circle\", cx=85, cy =80,r=5, stroke=\"black\", fill=\"#339933\"))\n",
    "whiskers = m(\"g\",id=\"whiskers\")\n",
    "whiskers = whiskers(m(\"line\", x1=75, y1=95, x2=135, y2=85, stroke=\"black\"))\n",
    "whiskers = whiskers(m(\"line\", x1=75, y1=95, x2=135, y2=105, stroke=\"black\"))\n",
    "svg = svg(whiskers)\n",
    "svg = svg(m(\"circle\", cx=85, cy =80,r=50, stroke=\"black\", fill=\"#339933\"))\n",
    "\n",
    "# svg = svg(\"use\", [Symbol(\"xlink:href\") => \"#whiskers\"]...)\n",
    "# svg = svg(whiskers.transform(\"scale(-1 1) translate(-140 0)\"))\n",
    "\n",
    "# <use xlink:href=\"#whiskers\" transform=\"scale(-1 1) translate(-140 0)\"/>\n",
    "\n",
    "# <circle cx=\"70\" cy=\"95\" r=\"50\" style=\"stroke: black; fill: none;\"/>\n",
    "# <circle cx=\"55\" cy=\"80\" r=\"5\" stroke=\"black\" fill=\"#339933\"/>\n",
    "# <circle cx=\"85\" cy=\"80\" r=\"5\" stroke=\"black\" fill=\"#339933\"/>\n",
    "# <g id=\"whiskers\">\n",
    "# <line x1=\"75\" y1=\"95\" x2=\"135\" y2=\"85\" style=\"stroke: black;\"/>\n",
    "# <li"
   ]
  },
  {
   "cell_type": "code",
   "execution_count": 183,
   "id": "c3caab72-af1b-495b-8ab0-1e68643aa173",
   "metadata": {},
   "outputs": [
    {
     "data": {
      "text/html": [
       "<g id=\"whiskers\"><line x1=\"75\" y1=\"95\" stroke=\"black\" x2=\"135\" y2=\"85\" /><line x1=\"75\" y1=\"95\" stroke=\"black\" x2=\"135\" y2=\"105\" /></g>"
      ],
      "text/plain": [
       "<g id=\"whiskers\"><line x1=\"75\" y1=\"95\" stroke=\"black\" x2=\"135\" y2=\"85\" /><line x1=\"75\" y1=\"95\" stroke=\"black\" x2=\"135\" y2=\"105\" /></g>"
      ]
     },
     "execution_count": 183,
     "metadata": {},
     "output_type": "execute_result"
    }
   ],
   "source": [
    "whiskers(transform = \"(scale(-1 1) translate(-140 0)\")"
   ]
  },
  {
   "cell_type": "code",
   "execution_count": 162,
   "id": "cac4c899-14e6-468b-9eb3-dccf692272e2",
   "metadata": {},
   "outputs": [
    {
     "name": "stdout",
     "output_type": "stream",
     "text": [
      "<svg height=\"170\" width=\"140\"><circle cy=\"95\" style=\"stroke: black; fill: none\" r=\"50\" cx=\"70\" /><circle cy=\"80\" stroke=\"black\" r=\"5\" fill=\"#339933\" cx=\"55\" /><circle cy=\"80\" stroke=\"black\" r=\"5\" fill=\"#339933\" cx=\"85\" /><g id=\"whiskers\"><line x1=\"75\" y1=\"95\" stroke=\"black\" x2=\"135\" y2=\"85\" /><line x1=\"75\" y1=\"95\" stroke=\"black\" x2=\"135\" y2=\"105\" /></g>useSymbol&#40;&#34;xlink:href&#34;&#41; &#61;&#62; &#34;#whiskers&#34;</svg>"
     ]
    }
   ],
   "source": [
    "print(svg)"
   ]
  },
  {
   "cell_type": "code",
   "execution_count": null,
   "id": "b0876146-3b39-4d80-80dc-a3f1e20ad276",
   "metadata": {},
   "outputs": [],
   "source": []
  },
  {
   "cell_type": "code",
   "execution_count": null,
   "id": "ab18f628-517f-41dc-a5ba-cb45bdcf6ef8",
   "metadata": {},
   "outputs": [],
   "source": []
  },
  {
   "cell_type": "code",
   "execution_count": 6,
   "id": "168d4593-a22d-4410-bb7c-16bfcc11889c",
   "metadata": {},
   "outputs": [
    {
     "data": {
      "text/plain": [
       "Circle"
      ]
     },
     "execution_count": 6,
     "metadata": {},
     "output_type": "execute_result"
    }
   ],
   "source": [
    "@with_kw struct Circle <: Primitive\n",
    "    origin::Point = Point(0,0)\n",
    "    r::Real = 1\n",
    "    fillcolor::Color = colorant\"black\"\n",
    "    strokecolor::Color = colorant\"black\"\n",
    "    strokewidth::Real = 0.1\n",
    "    strokestyle::String = \"solid\"\n",
    "end"
   ]
  },
  {
   "cell_type": "code",
   "execution_count": 13,
   "id": "73ec93ab-7310-4973-9c03-953b80df453f",
   "metadata": {},
   "outputs": [
    {
     "data": {
      "text/plain": [
       "draw (generic function with 1 method)"
      ]
     },
     "execution_count": 13,
     "metadata": {},
     "output_type": "execute_result"
    }
   ],
   "source": [
    "function draw(c::Circle)\n",
    "    setcolor(c.fillcolor)\n",
    "    circle(c.origin, c.r, action = :fill) \n",
    "end"
   ]
  },
  {
   "cell_type": "code",
   "execution_count": 11,
   "id": "ee5e59b4-498d-4ecc-8ed6-44f0d73ce51c",
   "metadata": {},
   "outputs": [
    {
     "data": {
      "image/svg+xml": [
       "<?xml version=\"1.0\" encoding=\"UTF-8\"?>\n",
       "<svg xmlns=\"http://www.w3.org/2000/svg\" xmlns:xlink=\"http://www.w3.org/1999/xlink\" width=\"200pt\" height=\"200pt\" viewBox=\"0 0 200 200\" version=\"1.1\">\n",
       "<g id=\"surface16\">\n",
       "<path style=\" stroke:none;fill-rule:nonzero;fill:rgb(100%,0%,0%);fill-opacity:1;\" d=\"M 101 100 C 101 101.332031 99 101.332031 99 100 C 99 98.667969 101 98.667969 101 100 \"/>\n",
       "</g>\n",
       "</svg>\n"
      ],
      "text/plain": []
     },
     "execution_count": 11,
     "metadata": {},
     "output_type": "execute_result"
    }
   ],
   "source": [
    "d = Drawing(200,200,:svg)\n",
    "origin()\n",
    "draw(Circle())\n",
    "finish()\n",
    "d"
   ]
  },
  {
   "cell_type": "code",
   "execution_count": null,
   "id": "fb7bc8ba-a24b-47b4-be0b-bc837e52d2c2",
   "metadata": {},
   "outputs": [],
   "source": []
  },
  {
   "cell_type": "code",
   "execution_count": 8,
   "id": "78b4f95e-0270-4194-b31d-487e60c42a9e",
   "metadata": {},
   "outputs": [
    {
     "data": {
      "image/svg+xml": [
       "<?xml version=\"1.0\" encoding=\"UTF-8\"?>\n",
       "<svg xmlns=\"http://www.w3.org/2000/svg\" xmlns:xlink=\"http://www.w3.org/1999/xlink\" width=\"400pt\" height=\"400pt\" viewBox=\"0 0 400 400\" version=\"1.1\">\n",
       "<defs>\n",
       "<g>\n",
       "<symbol overflow=\"visible\" id=\"glyph0-0\">\n",
       "<path style=\"stroke:none;\" d=\"M 0.59375 -10.546875 L 7.625 -10.546875 L 7.625 0 L 0.59375 0 Z M 0.875 -0.296875 L 7.328125 -0.296875 L 7.328125 -10.25 L 0.875 -10.25 Z M 0.875 -0.296875 \"/>\n",
       "</symbol>\n",
       "<symbol overflow=\"visible\" id=\"glyph0-1\">\n",
       "<path style=\"stroke:none;\" d=\"M 5.953125 -5.484375 C 5.953125 -5.078125 5.875 -4.722656 5.71875 -4.421875 C 5.5625 -4.128906 5.359375 -3.882812 5.109375 -3.6875 C 4.859375 -3.488281 4.59375 -3.34375 4.3125 -3.25 C 4.03125 -3.15625 3.769531 -3.109375 3.53125 -3.109375 C 3.15625 -3.109375 2.835938 -3.164062 2.578125 -3.28125 L 2.421875 -3.78125 C 2.585938 -3.707031 2.738281 -3.660156 2.875 -3.640625 C 3.019531 -3.617188 3.160156 -3.609375 3.296875 -3.609375 C 3.535156 -3.609375 3.773438 -3.664062 4.015625 -3.78125 C 4.253906 -3.90625 4.453125 -4.085938 4.609375 -4.328125 C 4.773438 -4.566406 4.859375 -4.875 4.859375 -5.25 C 4.859375 -5.65625 4.765625 -5.988281 4.578125 -6.25 C 4.398438 -6.507812 4.148438 -6.703125 3.828125 -6.828125 C 3.515625 -6.960938 3.160156 -7.03125 2.765625 -7.03125 C 2.359375 -7.03125 1.9375 -7.003906 1.5 -6.953125 C 1.0625 -6.910156 0.65625 -6.851562 0.28125 -6.78125 L 0.21875 -7.203125 C 0.613281 -7.304688 1.070312 -7.390625 1.59375 -7.453125 C 2.113281 -7.523438 2.617188 -7.5625 3.109375 -7.5625 C 3.972656 -7.5625 4.660156 -7.382812 5.171875 -7.03125 C 5.691406 -6.675781 5.953125 -6.160156 5.953125 -5.484375 Z M 0.28125 0 L 0.28125 -0.3125 C 0.539062 -0.363281 0.742188 -0.421875 0.890625 -0.484375 C 1.035156 -0.554688 1.109375 -0.617188 1.109375 -0.671875 L 1.109375 -7.046875 L 2.234375 -7.046875 L 2.234375 -0.671875 C 2.234375 -0.617188 2.296875 -0.5625 2.421875 -0.5 C 2.554688 -0.4375 2.828125 -0.375 3.234375 -0.3125 L 3.234375 0 Z M 0.28125 0 \"/>\n",
       "</symbol>\n",
       "<symbol overflow=\"visible\" id=\"glyph0-2\">\n",
       "<path style=\"stroke:none;\" d=\"M 4.984375 0 L 0.71875 0 L 0.546875 -0.4375 C 1.234375 -1.238281 1.796875 -1.910156 2.234375 -2.453125 C 2.679688 -2.992188 3.023438 -3.441406 3.265625 -3.796875 C 3.503906 -4.160156 3.671875 -4.46875 3.765625 -4.71875 C 3.859375 -4.96875 3.90625 -5.203125 3.90625 -5.421875 C 3.90625 -5.765625 3.820312 -6.054688 3.65625 -6.296875 C 3.488281 -6.546875 3.207031 -6.671875 2.8125 -6.671875 C 2.59375 -6.671875 2.40625 -6.601562 2.25 -6.46875 C 2.101562 -6.34375 1.988281 -6.1875 1.90625 -6 C 1.820312 -5.8125 1.789062 -5.625 1.8125 -5.4375 C 1.675781 -5.363281 1.53125 -5.296875 1.375 -5.234375 C 1.21875 -5.179688 1.050781 -5.144531 0.875 -5.125 L 0.703125 -5.375 C 0.703125 -5.570312 0.769531 -5.78125 0.90625 -6 C 1.050781 -6.21875 1.238281 -6.421875 1.46875 -6.609375 C 1.707031 -6.796875 1.972656 -6.945312 2.265625 -7.0625 C 2.566406 -7.175781 2.882812 -7.234375 3.21875 -7.234375 C 3.726562 -7.234375 4.148438 -7.101562 4.484375 -6.84375 C 4.828125 -6.582031 5 -6.179688 5 -5.640625 C 5 -5.378906 4.941406 -5.109375 4.828125 -4.828125 C 4.710938 -4.554688 4.523438 -4.238281 4.265625 -3.875 C 4.015625 -3.519531 3.675781 -3.09375 3.25 -2.59375 C 2.832031 -2.101562 2.320312 -1.507812 1.71875 -0.8125 L 4.125 -0.8125 C 4.257812 -0.8125 4.363281 -0.863281 4.4375 -0.96875 C 4.519531 -1.082031 4.582031 -1.210938 4.625 -1.359375 C 4.664062 -1.503906 4.691406 -1.628906 4.703125 -1.734375 C 4.710938 -1.847656 4.71875 -1.90625 4.71875 -1.90625 L 5.078125 -1.8125 Z M 4.984375 0 \"/>\n",
       "</symbol>\n",
       "<symbol overflow=\"visible\" id=\"glyph0-3\">\n",
       "<path style=\"stroke:none;\" d=\"M 0.96875 0 L 0.96875 -0.375 C 1.582031 -0.445312 2 -0.53125 2.21875 -0.625 C 2.4375 -0.726562 2.546875 -0.816406 2.546875 -0.890625 L 2.546875 -5.453125 C 2.546875 -5.609375 2.539062 -5.726562 2.53125 -5.8125 C 2.519531 -5.90625 2.488281 -5.976562 2.4375 -6.03125 C 2.394531 -6.070312 2.257812 -6.09375 2.03125 -6.09375 C 1.8125 -6.101562 1.441406 -6.050781 0.921875 -5.9375 L 0.78125 -6.296875 C 0.945312 -6.335938 1.148438 -6.398438 1.390625 -6.484375 C 1.628906 -6.566406 1.875 -6.65625 2.125 -6.75 C 2.382812 -6.851562 2.625 -6.953125 2.84375 -7.046875 C 3.0625 -7.140625 3.238281 -7.222656 3.375 -7.296875 L 3.609375 -7.078125 L 3.609375 -0.890625 C 3.609375 -0.816406 3.703125 -0.726562 3.890625 -0.625 C 4.085938 -0.53125 4.476562 -0.445312 5.0625 -0.375 L 5.0625 0 Z M 0.96875 0 \"/>\n",
       "</symbol>\n",
       "</g>\n",
       "</defs>\n",
       "<g id=\"surface1\">\n",
       "<rect x=\"0\" y=\"0\" width=\"400\" height=\"400\" style=\"fill:rgb(98.039216%,92.156863%,84.313725%);fill-opacity:1;stroke:none;\"/>\n",
       "<g style=\"fill:rgb(0%,0%,0%);fill-opacity:1;\">\n",
       "  <use xlink:href=\"#glyph0-1\" x=\"5\" y=\"395\"/>\n",
       "</g>\n",
       "<path style=\" stroke:none;fill-rule:nonzero;fill:rgb(82.745098%,82.745098%,82.745098%);fill-opacity:1;\" d=\"M 210 350 L 210 210 L 350 210 L 350 350 Z M 210 350 \"/>\n",
       "<g style=\"fill:rgb(0%,0%,0%);fill-opacity:1;\">\n",
       "  <use xlink:href=\"#glyph0-1\" x=\"215\" y=\"345\"/>\n",
       "  <use xlink:href=\"#glyph0-2\" x=\"221.451172\" y=\"345\"/>\n",
       "</g>\n",
       "<path style=\" stroke:none;fill-rule:nonzero;fill:rgb(82.745098%,82.745098%,82.745098%);fill-opacity:1;\" d=\"M 50 190 L 50 50 L 190 50 L 190 190 Z M 50 190 \"/>\n",
       "<path style=\" stroke:none;fill-rule:nonzero;fill:rgb(0%,0%,0%);fill-opacity:1;\" d=\"M 244.472656 298.332031 L 245.316406 291.746094 L 240.367188 287.316406 L 246.890625 286.082031 L 249.574219 280.007812 L 252.765625 285.832031 L 259.371094 286.507812 L 254.816406 291.339844 L 256.214844 297.832031 L 250.210938 294.996094 Z M 244.472656 298.332031 \"/>\n",
       "<path style=\" stroke:none;fill-rule:nonzero;fill:rgb(0%,0%,0%);fill-opacity:1;\" d=\"M 294.472656 258.332031 L 295.316406 251.746094 L 290.367188 247.316406 L 296.890625 246.082031 L 299.574219 240.007812 L 302.765625 245.832031 L 309.371094 246.507812 L 304.816406 251.339844 L 306.214844 257.832031 L 300.210938 254.996094 Z M 294.472656 258.332031 \"/>\n",
       "<g style=\"fill:rgb(0%,0%,0%);fill-opacity:1;\">\n",
       "  <use xlink:href=\"#glyph0-1\" x=\"55\" y=\"185\"/>\n",
       "  <use xlink:href=\"#glyph0-3\" x=\"61.451172\" y=\"185\"/>\n",
       "</g>\n",
       "<path style=\" stroke:none;fill-rule:nonzero;fill:rgb(0%,0%,0%);fill-opacity:1;\" d=\"M 158 110 C 158 114.417969 154.417969 118 150 118 C 145.582031 118 142 114.417969 142 110 C 142 105.582031 145.582031 102 150 102 C 154.417969 102 158 105.582031 158 110 \"/>\n",
       "<path style=\" stroke:none;fill-rule:nonzero;fill:rgb(0%,0%,0%);fill-opacity:1;\" d=\"M 108 150 C 108 154.417969 104.417969 158 100 158 C 95.582031 158 92 154.417969 92 150 C 92 145.582031 95.582031 142 100 142 C 104.417969 142 108 145.582031 108 150 \"/>\n",
       "<path style=\"fill:none;stroke-width:2;stroke-linecap:butt;stroke-linejoin:miter;stroke:rgb(0%,0%,54.509804%);stroke-opacity:1;stroke-miterlimit:10;\" d=\"M 150 110 L 300 250 \"/>\n",
       "<path style=\"fill:none;stroke-width:2;stroke-linecap:butt;stroke-linejoin:miter;stroke:rgb(0%,0%,54.509804%);stroke-opacity:1;stroke-miterlimit:10;\" d=\"M 100 150 L 250 290 \"/>\n",
       "</g>\n",
       "</svg>\n"
      ],
      "text/plain": []
     },
     "execution_count": 8,
     "metadata": {},
     "output_type": "execute_result"
    }
   ],
   "source": [
    "d = Drawing(400,400,:svg)\n",
    "background(\"antiquewhite\")\n",
    "fontsize(12)\n",
    "text(\"P\",Point(0+5,400 -5),valign=:bottom)\n",
    "\n",
    "origin()\n",
    "\n",
    "sethue(\"lightgrey\")\n",
    "box(Point(10,10),Point(150,150),:fill)\n",
    "sethue(\"black\")\n",
    "text(\"P2\",Point(10+5,150 -5),valign=:bottom)\n",
    "\n",
    "sethue(\"lightgrey\")\n",
    "box(Point(-150,-150),Point(-10,-10),:fill)\n",
    "sethue(\"black\")\n",
    "star(Point(50,90),10,5,0.5,0.9,:fill)\n",
    "star(Point(50+50,50),10,5,0.5,0.9,:fill)\n",
    "text(\"P1\",Point(-150+5,-10-5),valign=:bottom)\n",
    "\n",
    "circle(Point(-50,-90),8,:fill)\n",
    "circle(Point(-50-50,-50),8,:fill)\n",
    "\n",
    "sethue(\"darkblue\")\n",
    "line(Point(-50,-90),Point(50+50,50),:stroke)\n",
    "line(Point(-50-50,-50),Point(50,90),:stroke)\n",
    "\n",
    "\n",
    "finish()\n",
    "d"
   ]
  },
  {
   "cell_type": "code",
   "execution_count": null,
   "id": "c75ad7d2-71c1-4695-82e1-c3bb91c3a625",
   "metadata": {},
   "outputs": [],
   "source": []
  }
 ],
 "metadata": {
  "kernelspec": {
   "display_name": "Julia 1.8.2",
   "language": "julia",
   "name": "julia-1.8"
  },
  "language_info": {
   "file_extension": ".jl",
   "mimetype": "application/julia",
   "name": "julia",
   "version": "1.8.2"
  }
 },
 "nbformat": 4,
 "nbformat_minor": 5
}
