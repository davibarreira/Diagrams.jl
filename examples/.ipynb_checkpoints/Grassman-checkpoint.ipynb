{
 "cells": [
  {
   "cell_type": "code",
   "execution_count": 1,
   "id": "263af60a-3027-4a33-bb82-eef82e6149ff",
   "metadata": {},
   "outputs": [
    {
     "name": "stderr",
     "output_type": "stream",
     "text": [
      "\u001b[32m\u001b[1m  Activating\u001b[22m\u001b[39m project at `~/MEGA/EMAP/Diagrams.jl`\n"
     ]
    }
   ],
   "source": [
    "using Pkg, Revise\n",
    "Pkg.activate(\"../.\")"
   ]
  },
  {
   "cell_type": "code",
   "execution_count": 9,
   "id": "c69b799b-a0b5-4614-acb3-03e4ec07b9bb",
   "metadata": {},
   "outputs": [],
   "source": [
    "using CliffordAlgebras\n",
    "using Plots"
   ]
  },
  {
   "cell_type": "code",
   "execution_count": 3,
   "id": "1af21b2e-cf0a-4ec5-a92c-5e4c67378e0b",
   "metadata": {},
   "outputs": [
    {
     "data": {
      "text/plain": [
       "Cl(2,0,0)"
      ]
     },
     "execution_count": 3,
     "metadata": {},
     "output_type": "execute_result"
    }
   ],
   "source": [
    "cl2 = CliffordAlgebra(2)"
   ]
  },
  {
   "cell_type": "code",
   "execution_count": 34,
   "id": "74366073-a5bd-44b6-ace1-fdefd4902ae0",
   "metadata": {},
   "outputs": [
    {
     "data": {
      "text/plain": [
       "(:𝟏, :e1, :e2, :e1e2)"
      ]
     },
     "execution_count": 34,
     "metadata": {},
     "output_type": "execute_result"
    }
   ],
   "source": [
    "propertynames(cl2)\n",
    "# 𝟏 === \\bfone"
   ]
  },
  {
   "cell_type": "code",
   "execution_count": 35,
   "id": "ae7f58c4-4565-4574-b321-3d488c66fa0a",
   "metadata": {},
   "outputs": [
    {
     "data": {
      "text/plain": [
       "+1×e1e2 ∈ Cl(2, 0, 0)"
      ]
     },
     "execution_count": 35,
     "metadata": {},
     "output_type": "execute_result"
    }
   ],
   "source": [
    "I₂ = cl2.e1 ∧ cl2.e2"
   ]
  },
  {
   "cell_type": "code",
   "execution_count": 36,
   "id": "59acfe9d-9d92-4550-aed0-6a0b18836827",
   "metadata": {},
   "outputs": [
    {
     "data": {
      "text/plain": [
       "0"
      ]
     },
     "execution_count": 36,
     "metadata": {},
     "output_type": "execute_result"
    }
   ],
   "source": [
    "a = 1cl2.e1\n",
    "b = -0.5cl2.e1 + 1cl2.e2\n",
    "c = -0.5cl2.e1 - 1cl2.e2\n",
    "a + b + c"
   ]
  },
  {
   "cell_type": "code",
   "execution_count": 7,
   "id": "01f66f0a-b763-46cc-92b8-e2603ba3f3c4",
   "metadata": {},
   "outputs": [
    {
     "data": {
      "text/plain": [
       "+0.5 ∈ Cl(2, 0, 0)"
      ]
     },
     "execution_count": 7,
     "metadata": {},
     "output_type": "execute_result"
    }
   ],
   "source": [
    "△ = (a ∧ b) / (2I₂) # Area of Triangle"
   ]
  },
  {
   "cell_type": "code",
   "execution_count": 8,
   "id": "e04d06e2-e378-47d7-8cfa-965f04888bd4",
   "metadata": {},
   "outputs": [
    {
     "data": {
      "text/plain": [
       "(true, true)"
      ]
     },
     "execution_count": 8,
     "metadata": {},
     "output_type": "execute_result"
    }
   ],
   "source": [
    "a ∧ b == b ∧ c, b ∧ c == c ∧ a"
   ]
  },
  {
   "cell_type": "code",
   "execution_count": 17,
   "id": "5df17ca7-2228-4e25-a1e7-974950f24d72",
   "metadata": {},
   "outputs": [
    {
     "data": {
      "image/svg+xml": [
       "<?xml version=\"1.0\" encoding=\"utf-8\"?>\n",
       "<svg xmlns=\"http://www.w3.org/2000/svg\" xmlns:xlink=\"http://www.w3.org/1999/xlink\" width=\"600\" height=\"400\" viewBox=\"0 0 2400 1600\">\n",
       "<defs>\n",
       "  <clipPath id=\"clip870\">\n",
       "    <rect x=\"0\" y=\"0\" width=\"2400\" height=\"1600\"/>\n",
       "  </clipPath>\n",
       "</defs>\n",
       "<path clip-path=\"url(#clip870)\" d=\"\n",
       "M0 1600 L2400 1600 L2400 0 L0 0  Z\n",
       "  \" fill=\"#ffffff\" fill-rule=\"evenodd\" fill-opacity=\"1\"/>\n",
       "<defs>\n",
       "  <clipPath id=\"clip871\">\n",
       "    <rect x=\"480\" y=\"0\" width=\"1681\" height=\"1600\"/>\n",
       "  </clipPath>\n",
       "</defs>\n",
       "<path clip-path=\"url(#clip870)\" d=\"\n",
       "M193.936 1486.45 L2352.76 1486.45 L2352.76 47.2441 L193.936 47.2441  Z\n",
       "  \" fill=\"#ffffff\" fill-rule=\"evenodd\" fill-opacity=\"1\"/>\n",
       "<defs>\n",
       "  <clipPath id=\"clip872\">\n",
       "    <rect x=\"193\" y=\"47\" width=\"2160\" height=\"1440\"/>\n",
       "  </clipPath>\n",
       "</defs>\n",
       "<polyline clip-path=\"url(#clip872)\" style=\"stroke:#000000; stroke-linecap:round; stroke-linejoin:round; stroke-width:2; stroke-opacity:0.1; fill:none\" points=\"\n",
       "  526.584,1486.45 526.584,47.2441 \n",
       "  \"/>\n",
       "<polyline clip-path=\"url(#clip872)\" style=\"stroke:#000000; stroke-linecap:round; stroke-linejoin:round; stroke-width:2; stroke-opacity:0.1; fill:none\" points=\"\n",
       "  933.909,1486.45 933.909,47.2441 \n",
       "  \"/>\n",
       "<polyline clip-path=\"url(#clip872)\" style=\"stroke:#000000; stroke-linecap:round; stroke-linejoin:round; stroke-width:2; stroke-opacity:0.1; fill:none\" points=\"\n",
       "  1341.23,1486.45 1341.23,47.2441 \n",
       "  \"/>\n",
       "<polyline clip-path=\"url(#clip872)\" style=\"stroke:#000000; stroke-linecap:round; stroke-linejoin:round; stroke-width:2; stroke-opacity:0.1; fill:none\" points=\"\n",
       "  1748.56,1486.45 1748.56,47.2441 \n",
       "  \"/>\n",
       "<polyline clip-path=\"url(#clip872)\" style=\"stroke:#000000; stroke-linecap:round; stroke-linejoin:round; stroke-width:2; stroke-opacity:0.1; fill:none\" points=\"\n",
       "  2155.88,1486.45 2155.88,47.2441 \n",
       "  \"/>\n",
       "<polyline clip-path=\"url(#clip870)\" style=\"stroke:#000000; stroke-linecap:round; stroke-linejoin:round; stroke-width:4; stroke-opacity:1; fill:none\" points=\"\n",
       "  193.936,1486.45 2352.76,1486.45 \n",
       "  \"/>\n",
       "<polyline clip-path=\"url(#clip870)\" style=\"stroke:#000000; stroke-linecap:round; stroke-linejoin:round; stroke-width:4; stroke-opacity:1; fill:none\" points=\"\n",
       "  526.584,1486.45 526.584,1467.55 \n",
       "  \"/>\n",
       "<polyline clip-path=\"url(#clip870)\" style=\"stroke:#000000; stroke-linecap:round; stroke-linejoin:round; stroke-width:4; stroke-opacity:1; fill:none\" points=\"\n",
       "  933.909,1486.45 933.909,1467.55 \n",
       "  \"/>\n",
       "<polyline clip-path=\"url(#clip870)\" style=\"stroke:#000000; stroke-linecap:round; stroke-linejoin:round; stroke-width:4; stroke-opacity:1; fill:none\" points=\"\n",
       "  1341.23,1486.45 1341.23,1467.55 \n",
       "  \"/>\n",
       "<polyline clip-path=\"url(#clip870)\" style=\"stroke:#000000; stroke-linecap:round; stroke-linejoin:round; stroke-width:4; stroke-opacity:1; fill:none\" points=\"\n",
       "  1748.56,1486.45 1748.56,1467.55 \n",
       "  \"/>\n",
       "<polyline clip-path=\"url(#clip870)\" style=\"stroke:#000000; stroke-linecap:round; stroke-linejoin:round; stroke-width:4; stroke-opacity:1; fill:none\" points=\"\n",
       "  2155.88,1486.45 2155.88,1467.55 \n",
       "  \"/>\n",
       "<path clip-path=\"url(#clip870)\" d=\"M473.436 1532.02 L503.112 1532.02 L503.112 1535.95 L473.436 1535.95 L473.436 1532.02 Z\" fill=\"#000000\" fill-rule=\"evenodd\" fill-opacity=\"1\" /><path clip-path=\"url(#clip870)\" d=\"M523.205 1517.37 Q519.594 1517.37 517.765 1520.93 Q515.959 1524.47 515.959 1531.6 Q515.959 1538.71 517.765 1542.27 Q519.594 1545.82 523.205 1545.82 Q526.839 1545.82 528.645 1542.27 Q530.473 1538.71 530.473 1531.6 Q530.473 1524.47 528.645 1520.93 Q526.839 1517.37 523.205 1517.37 M523.205 1513.66 Q529.015 1513.66 532.07 1518.27 Q535.149 1522.85 535.149 1531.6 Q535.149 1540.33 532.07 1544.94 Q529.015 1549.52 523.205 1549.52 Q517.395 1549.52 514.316 1544.94 Q511.26 1540.33 511.26 1531.6 Q511.26 1522.85 514.316 1518.27 Q517.395 1513.66 523.205 1513.66 Z\" fill=\"#000000\" fill-rule=\"evenodd\" fill-opacity=\"1\" /><path clip-path=\"url(#clip870)\" d=\"M543.367 1542.97 L548.251 1542.97 L548.251 1548.85 L543.367 1548.85 L543.367 1542.97 Z\" fill=\"#000000\" fill-rule=\"evenodd\" fill-opacity=\"1\" /><path clip-path=\"url(#clip870)\" d=\"M572.603 1530.21 Q575.959 1530.93 577.834 1533.2 Q579.732 1535.47 579.732 1538.8 Q579.732 1543.92 576.214 1546.72 Q572.695 1549.52 566.214 1549.52 Q564.038 1549.52 561.723 1549.08 Q559.431 1548.66 556.978 1547.81 L556.978 1543.29 Q558.922 1544.43 561.237 1545.01 Q563.552 1545.58 566.075 1545.58 Q570.473 1545.58 572.765 1543.85 Q575.079 1542.11 575.079 1538.8 Q575.079 1535.75 572.927 1534.03 Q570.797 1532.3 566.978 1532.3 L562.95 1532.3 L562.95 1528.45 L567.163 1528.45 Q570.612 1528.45 572.441 1527.09 Q574.269 1525.7 574.269 1523.11 Q574.269 1520.45 572.371 1519.03 Q570.496 1517.6 566.978 1517.6 Q565.056 1517.6 562.857 1518.01 Q560.658 1518.43 558.019 1519.31 L558.019 1515.14 Q560.681 1514.4 562.996 1514.03 Q565.334 1513.66 567.394 1513.66 Q572.718 1513.66 575.82 1516.09 Q578.922 1518.5 578.922 1522.62 Q578.922 1525.49 577.279 1527.48 Q575.635 1529.45 572.603 1530.21 Z\" fill=\"#000000\" fill-rule=\"evenodd\" fill-opacity=\"1\" /><path clip-path=\"url(#clip870)\" d=\"M911.293 1517.37 Q907.682 1517.37 905.853 1520.93 Q904.048 1524.47 904.048 1531.6 Q904.048 1538.71 905.853 1542.27 Q907.682 1545.82 911.293 1545.82 Q914.927 1545.82 916.733 1542.27 Q918.562 1538.71 918.562 1531.6 Q918.562 1524.47 916.733 1520.93 Q914.927 1517.37 911.293 1517.37 M911.293 1513.66 Q917.103 1513.66 920.159 1518.27 Q923.238 1522.85 923.238 1531.6 Q923.238 1540.33 920.159 1544.94 Q917.103 1549.52 911.293 1549.52 Q905.483 1549.52 902.404 1544.94 Q899.349 1540.33 899.349 1531.6 Q899.349 1522.85 902.404 1518.27 Q905.483 1513.66 911.293 1513.66 Z\" fill=\"#000000\" fill-rule=\"evenodd\" fill-opacity=\"1\" /><path clip-path=\"url(#clip870)\" d=\"M931.455 1542.97 L936.339 1542.97 L936.339 1548.85 L931.455 1548.85 L931.455 1542.97 Z\" fill=\"#000000\" fill-rule=\"evenodd\" fill-opacity=\"1\" /><path clip-path=\"url(#clip870)\" d=\"M956.524 1517.37 Q952.913 1517.37 951.085 1520.93 Q949.279 1524.47 949.279 1531.6 Q949.279 1538.71 951.085 1542.27 Q952.913 1545.82 956.524 1545.82 Q960.159 1545.82 961.964 1542.27 Q963.793 1538.71 963.793 1531.6 Q963.793 1524.47 961.964 1520.93 Q960.159 1517.37 956.524 1517.37 M956.524 1513.66 Q962.335 1513.66 965.39 1518.27 Q968.469 1522.85 968.469 1531.6 Q968.469 1540.33 965.39 1544.94 Q962.335 1549.52 956.524 1549.52 Q950.714 1549.52 947.636 1544.94 Q944.58 1540.33 944.58 1531.6 Q944.58 1522.85 947.636 1518.27 Q950.714 1513.66 956.524 1513.66 Z\" fill=\"#000000\" fill-rule=\"evenodd\" fill-opacity=\"1\" /><path clip-path=\"url(#clip870)\" d=\"M1318.94 1517.37 Q1315.33 1517.37 1313.5 1520.93 Q1311.7 1524.47 1311.7 1531.6 Q1311.7 1538.71 1313.5 1542.27 Q1315.33 1545.82 1318.94 1545.82 Q1322.58 1545.82 1324.38 1542.27 Q1326.21 1538.71 1326.21 1531.6 Q1326.21 1524.47 1324.38 1520.93 Q1322.58 1517.37 1318.94 1517.37 M1318.94 1513.66 Q1324.75 1513.66 1327.81 1518.27 Q1330.89 1522.85 1330.89 1531.6 Q1330.89 1540.33 1327.81 1544.94 Q1324.75 1549.52 1318.94 1549.52 Q1313.13 1549.52 1310.05 1544.94 Q1307 1540.33 1307 1531.6 Q1307 1522.85 1310.05 1518.27 Q1313.13 1513.66 1318.94 1513.66 Z\" fill=\"#000000\" fill-rule=\"evenodd\" fill-opacity=\"1\" /><path clip-path=\"url(#clip870)\" d=\"M1339.1 1542.97 L1343.99 1542.97 L1343.99 1548.85 L1339.1 1548.85 L1339.1 1542.97 Z\" fill=\"#000000\" fill-rule=\"evenodd\" fill-opacity=\"1\" /><path clip-path=\"url(#clip870)\" d=\"M1368.34 1530.21 Q1371.7 1530.93 1373.57 1533.2 Q1375.47 1535.47 1375.47 1538.8 Q1375.47 1543.92 1371.95 1546.72 Q1368.43 1549.52 1361.95 1549.52 Q1359.77 1549.52 1357.46 1549.08 Q1355.17 1548.66 1352.71 1547.81 L1352.71 1543.29 Q1354.66 1544.43 1356.97 1545.01 Q1359.29 1545.58 1361.81 1545.58 Q1366.21 1545.58 1368.5 1543.85 Q1370.82 1542.11 1370.82 1538.8 Q1370.82 1535.75 1368.66 1534.03 Q1366.53 1532.3 1362.71 1532.3 L1358.69 1532.3 L1358.69 1528.45 L1362.9 1528.45 Q1366.35 1528.45 1368.18 1527.09 Q1370.01 1525.7 1370.01 1523.11 Q1370.01 1520.45 1368.11 1519.03 Q1366.23 1517.6 1362.71 1517.6 Q1360.79 1517.6 1358.59 1518.01 Q1356.4 1518.43 1353.76 1519.31 L1353.76 1515.14 Q1356.42 1514.4 1358.73 1514.03 Q1361.07 1513.66 1363.13 1513.66 Q1368.46 1513.66 1371.56 1516.09 Q1374.66 1518.5 1374.66 1522.62 Q1374.66 1525.49 1373.02 1527.48 Q1371.37 1529.45 1368.34 1530.21 Z\" fill=\"#000000\" fill-rule=\"evenodd\" fill-opacity=\"1\" /><path clip-path=\"url(#clip870)\" d=\"M1725.86 1517.37 Q1722.25 1517.37 1720.42 1520.93 Q1718.62 1524.47 1718.62 1531.6 Q1718.62 1538.71 1720.42 1542.27 Q1722.25 1545.82 1725.86 1545.82 Q1729.5 1545.82 1731.3 1542.27 Q1733.13 1538.71 1733.13 1531.6 Q1733.13 1524.47 1731.3 1520.93 Q1729.5 1517.37 1725.86 1517.37 M1725.86 1513.66 Q1731.67 1513.66 1734.73 1518.27 Q1737.81 1522.85 1737.81 1531.6 Q1737.81 1540.33 1734.73 1544.94 Q1731.67 1549.52 1725.86 1549.52 Q1720.05 1549.52 1716.97 1544.94 Q1713.92 1540.33 1713.92 1531.6 Q1713.92 1522.85 1716.97 1518.27 Q1720.05 1513.66 1725.86 1513.66 Z\" fill=\"#000000\" fill-rule=\"evenodd\" fill-opacity=\"1\" /><path clip-path=\"url(#clip870)\" d=\"M1746.02 1542.97 L1750.91 1542.97 L1750.91 1548.85 L1746.02 1548.85 L1746.02 1542.97 Z\" fill=\"#000000\" fill-rule=\"evenodd\" fill-opacity=\"1\" /><path clip-path=\"url(#clip870)\" d=\"M1771.67 1529.7 Q1768.52 1529.7 1766.67 1531.86 Q1764.84 1534.01 1764.84 1537.76 Q1764.84 1541.49 1766.67 1543.66 Q1768.52 1545.82 1771.67 1545.82 Q1774.82 1545.82 1776.65 1543.66 Q1778.5 1541.49 1778.5 1537.76 Q1778.5 1534.01 1776.65 1531.86 Q1774.82 1529.7 1771.67 1529.7 M1780.95 1515.05 L1780.95 1519.31 Q1779.19 1518.48 1777.39 1518.04 Q1775.61 1517.6 1773.85 1517.6 Q1769.22 1517.6 1766.76 1520.72 Q1764.33 1523.85 1763.99 1530.17 Q1765.35 1528.15 1767.41 1527.09 Q1769.47 1526 1771.95 1526 Q1777.16 1526 1780.17 1529.17 Q1783.2 1532.32 1783.2 1537.76 Q1783.2 1543.08 1780.05 1546.3 Q1776.9 1549.52 1771.67 1549.52 Q1765.68 1549.52 1762.5 1544.94 Q1759.33 1540.33 1759.33 1531.6 Q1759.33 1523.41 1763.22 1518.55 Q1767.11 1513.66 1773.66 1513.66 Q1775.42 1513.66 1777.2 1514.01 Q1779.01 1514.36 1780.95 1515.05 Z\" fill=\"#000000\" fill-rule=\"evenodd\" fill-opacity=\"1\" /><path clip-path=\"url(#clip870)\" d=\"M2133.36 1517.37 Q2129.75 1517.37 2127.92 1520.93 Q2126.11 1524.47 2126.11 1531.6 Q2126.11 1538.71 2127.92 1542.27 Q2129.75 1545.82 2133.36 1545.82 Q2136.99 1545.82 2138.8 1542.27 Q2140.63 1538.71 2140.63 1531.6 Q2140.63 1524.47 2138.8 1520.93 Q2136.99 1517.37 2133.36 1517.37 M2133.36 1513.66 Q2139.17 1513.66 2142.23 1518.27 Q2145.3 1522.85 2145.3 1531.6 Q2145.3 1540.33 2142.23 1544.94 Q2139.17 1549.52 2133.36 1549.52 Q2127.55 1549.52 2124.47 1544.94 Q2121.41 1540.33 2121.41 1531.6 Q2121.41 1522.85 2124.47 1518.27 Q2127.55 1513.66 2133.36 1513.66 Z\" fill=\"#000000\" fill-rule=\"evenodd\" fill-opacity=\"1\" /><path clip-path=\"url(#clip870)\" d=\"M2153.52 1542.97 L2158.41 1542.97 L2158.41 1548.85 L2153.52 1548.85 L2153.52 1542.97 Z\" fill=\"#000000\" fill-rule=\"evenodd\" fill-opacity=\"1\" /><path clip-path=\"url(#clip870)\" d=\"M2168.73 1548.13 L2168.73 1543.87 Q2170.49 1544.7 2172.29 1545.14 Q2174.1 1545.58 2175.84 1545.58 Q2180.47 1545.58 2182.9 1542.48 Q2185.35 1539.36 2185.7 1533.01 Q2184.35 1535.01 2182.29 1536.07 Q2180.23 1537.13 2177.73 1537.13 Q2172.55 1537.13 2169.52 1534.01 Q2166.51 1530.86 2166.51 1525.42 Q2166.51 1520.1 2169.66 1516.88 Q2172.8 1513.66 2178.04 1513.66 Q2184.03 1513.66 2187.18 1518.27 Q2190.35 1522.85 2190.35 1531.6 Q2190.35 1539.77 2186.46 1544.66 Q2182.6 1549.52 2176.04 1549.52 Q2174.29 1549.52 2172.48 1549.17 Q2170.67 1548.82 2168.73 1548.13 M2178.04 1533.48 Q2181.18 1533.48 2183.01 1531.32 Q2184.86 1529.17 2184.86 1525.42 Q2184.86 1521.7 2183.01 1519.54 Q2181.18 1517.37 2178.04 1517.37 Q2174.89 1517.37 2173.04 1519.54 Q2171.21 1521.7 2171.21 1525.42 Q2171.21 1529.17 2173.04 1531.32 Q2174.89 1533.48 2178.04 1533.48 Z\" fill=\"#000000\" fill-rule=\"evenodd\" fill-opacity=\"1\" /><polyline clip-path=\"url(#clip872)\" style=\"stroke:#000000; stroke-linecap:round; stroke-linejoin:round; stroke-width:2; stroke-opacity:0.1; fill:none\" points=\"\n",
       "  193.936,1445.72 2352.76,1445.72 \n",
       "  \"/>\n",
       "<polyline clip-path=\"url(#clip872)\" style=\"stroke:#000000; stroke-linecap:round; stroke-linejoin:round; stroke-width:2; stroke-opacity:0.1; fill:none\" points=\"\n",
       "  193.936,1106.28 2352.76,1106.28 \n",
       "  \"/>\n",
       "<polyline clip-path=\"url(#clip872)\" style=\"stroke:#000000; stroke-linecap:round; stroke-linejoin:round; stroke-width:2; stroke-opacity:0.1; fill:none\" points=\"\n",
       "  193.936,766.846 2352.76,766.846 \n",
       "  \"/>\n",
       "<polyline clip-path=\"url(#clip872)\" style=\"stroke:#000000; stroke-linecap:round; stroke-linejoin:round; stroke-width:2; stroke-opacity:0.1; fill:none\" points=\"\n",
       "  193.936,427.411 2352.76,427.411 \n",
       "  \"/>\n",
       "<polyline clip-path=\"url(#clip872)\" style=\"stroke:#000000; stroke-linecap:round; stroke-linejoin:round; stroke-width:2; stroke-opacity:0.1; fill:none\" points=\"\n",
       "  193.936,87.9763 2352.76,87.9763 \n",
       "  \"/>\n",
       "<polyline clip-path=\"url(#clip870)\" style=\"stroke:#000000; stroke-linecap:round; stroke-linejoin:round; stroke-width:4; stroke-opacity:1; fill:none\" points=\"\n",
       "  193.936,1486.45 193.936,47.2441 \n",
       "  \"/>\n",
       "<polyline clip-path=\"url(#clip870)\" style=\"stroke:#000000; stroke-linecap:round; stroke-linejoin:round; stroke-width:4; stroke-opacity:1; fill:none\" points=\"\n",
       "  193.936,1445.72 212.834,1445.72 \n",
       "  \"/>\n",
       "<polyline clip-path=\"url(#clip870)\" style=\"stroke:#000000; stroke-linecap:round; stroke-linejoin:round; stroke-width:4; stroke-opacity:1; fill:none\" points=\"\n",
       "  193.936,1106.28 212.834,1106.28 \n",
       "  \"/>\n",
       "<polyline clip-path=\"url(#clip870)\" style=\"stroke:#000000; stroke-linecap:round; stroke-linejoin:round; stroke-width:4; stroke-opacity:1; fill:none\" points=\"\n",
       "  193.936,766.846 212.834,766.846 \n",
       "  \"/>\n",
       "<polyline clip-path=\"url(#clip870)\" style=\"stroke:#000000; stroke-linecap:round; stroke-linejoin:round; stroke-width:4; stroke-opacity:1; fill:none\" points=\"\n",
       "  193.936,427.411 212.834,427.411 \n",
       "  \"/>\n",
       "<polyline clip-path=\"url(#clip870)\" style=\"stroke:#000000; stroke-linecap:round; stroke-linejoin:round; stroke-width:4; stroke-opacity:1; fill:none\" points=\"\n",
       "  193.936,87.9763 212.834,87.9763 \n",
       "  \"/>\n",
       "<path clip-path=\"url(#clip870)\" d=\"M50.9921 1446.17 L80.6679 1446.17 L80.6679 1450.1 L50.9921 1450.1 L50.9921 1446.17 Z\" fill=\"#000000\" fill-rule=\"evenodd\" fill-opacity=\"1\" /><path clip-path=\"url(#clip870)\" d=\"M91.5706 1459.06 L99.2095 1459.06 L99.2095 1432.69 L90.8993 1434.36 L90.8993 1430.1 L99.1632 1428.44 L103.839 1428.44 L103.839 1459.06 L111.478 1459.06 L111.478 1463 L91.5706 1463 L91.5706 1459.06 Z\" fill=\"#000000\" fill-rule=\"evenodd\" fill-opacity=\"1\" /><path clip-path=\"url(#clip870)\" d=\"M120.922 1457.12 L125.807 1457.12 L125.807 1463 L120.922 1463 L120.922 1457.12 Z\" fill=\"#000000\" fill-rule=\"evenodd\" fill-opacity=\"1\" /><path clip-path=\"url(#clip870)\" d=\"M145.992 1431.51 Q142.381 1431.51 140.552 1435.08 Q138.746 1438.62 138.746 1445.75 Q138.746 1452.86 140.552 1456.42 Q142.381 1459.96 145.992 1459.96 Q149.626 1459.96 151.431 1456.42 Q153.26 1452.86 153.26 1445.75 Q153.26 1438.62 151.431 1435.08 Q149.626 1431.51 145.992 1431.51 M145.992 1427.81 Q151.802 1427.81 154.857 1432.42 Q157.936 1437 157.936 1445.75 Q157.936 1454.48 154.857 1459.08 Q151.802 1463.67 145.992 1463.67 Q140.181 1463.67 137.103 1459.08 Q134.047 1454.48 134.047 1445.75 Q134.047 1437 137.103 1432.42 Q140.181 1427.81 145.992 1427.81 Z\" fill=\"#000000\" fill-rule=\"evenodd\" fill-opacity=\"1\" /><path clip-path=\"url(#clip870)\" d=\"M51.9875 1106.73 L81.6633 1106.73 L81.6633 1110.67 L51.9875 1110.67 L51.9875 1106.73 Z\" fill=\"#000000\" fill-rule=\"evenodd\" fill-opacity=\"1\" /><path clip-path=\"url(#clip870)\" d=\"M101.756 1092.08 Q98.1447 1092.08 96.316 1095.64 Q94.5104 1099.19 94.5104 1106.32 Q94.5104 1113.42 96.316 1116.99 Q98.1447 1120.53 101.756 1120.53 Q105.39 1120.53 107.196 1116.99 Q109.024 1113.42 109.024 1106.32 Q109.024 1099.19 107.196 1095.64 Q105.39 1092.08 101.756 1092.08 M101.756 1088.38 Q107.566 1088.38 110.621 1092.98 Q113.7 1097.57 113.7 1106.32 Q113.7 1115.04 110.621 1119.65 Q107.566 1124.23 101.756 1124.23 Q95.9456 1124.23 92.8669 1119.65 Q89.8114 1115.04 89.8114 1106.32 Q89.8114 1097.57 92.8669 1092.98 Q95.9456 1088.38 101.756 1088.38 Z\" fill=\"#000000\" fill-rule=\"evenodd\" fill-opacity=\"1\" /><path clip-path=\"url(#clip870)\" d=\"M121.918 1117.68 L126.802 1117.68 L126.802 1123.56 L121.918 1123.56 L121.918 1117.68 Z\" fill=\"#000000\" fill-rule=\"evenodd\" fill-opacity=\"1\" /><path clip-path=\"url(#clip870)\" d=\"M137.033 1089 L155.39 1089 L155.39 1092.94 L141.316 1092.94 L141.316 1101.41 Q142.334 1101.06 143.353 1100.9 Q144.371 1100.71 145.39 1100.71 Q151.177 1100.71 154.556 1103.89 Q157.936 1107.06 157.936 1112.47 Q157.936 1118.05 154.464 1121.15 Q150.992 1124.23 144.672 1124.23 Q142.496 1124.23 140.228 1123.86 Q137.982 1123.49 135.575 1122.75 L135.575 1118.05 Q137.658 1119.19 139.881 1119.74 Q142.103 1120.3 144.58 1120.3 Q148.584 1120.3 150.922 1118.19 Q153.26 1116.08 153.26 1112.47 Q153.26 1108.86 150.922 1106.76 Q148.584 1104.65 144.58 1104.65 Q142.705 1104.65 140.83 1105.07 Q138.978 1105.48 137.033 1106.36 L137.033 1089 Z\" fill=\"#000000\" fill-rule=\"evenodd\" fill-opacity=\"1\" /><path clip-path=\"url(#clip870)\" d=\"M100.76 752.645 Q97.1493 752.645 95.3206 756.209 Q93.515 759.751 93.515 766.881 Q93.515 773.987 95.3206 777.552 Q97.1493 781.094 100.76 781.094 Q104.395 781.094 106.2 777.552 Q108.029 773.987 108.029 766.881 Q108.029 759.751 106.2 756.209 Q104.395 752.645 100.76 752.645 M100.76 748.941 Q106.571 748.941 109.626 753.547 Q112.705 758.131 112.705 766.881 Q112.705 775.608 109.626 780.214 Q106.571 784.797 100.76 784.797 Q94.9502 784.797 91.8715 780.214 Q88.816 775.608 88.816 766.881 Q88.816 758.131 91.8715 753.547 Q94.9502 748.941 100.76 748.941 Z\" fill=\"#000000\" fill-rule=\"evenodd\" fill-opacity=\"1\" /><path clip-path=\"url(#clip870)\" d=\"M120.922 778.246 L125.807 778.246 L125.807 784.126 L120.922 784.126 L120.922 778.246 Z\" fill=\"#000000\" fill-rule=\"evenodd\" fill-opacity=\"1\" /><path clip-path=\"url(#clip870)\" d=\"M145.992 752.645 Q142.381 752.645 140.552 756.209 Q138.746 759.751 138.746 766.881 Q138.746 773.987 140.552 777.552 Q142.381 781.094 145.992 781.094 Q149.626 781.094 151.431 777.552 Q153.26 773.987 153.26 766.881 Q153.26 759.751 151.431 756.209 Q149.626 752.645 145.992 752.645 M145.992 748.941 Q151.802 748.941 154.857 753.547 Q157.936 758.131 157.936 766.881 Q157.936 775.608 154.857 780.214 Q151.802 784.797 145.992 784.797 Q140.181 784.797 137.103 780.214 Q134.047 775.608 134.047 766.881 Q134.047 758.131 137.103 753.547 Q140.181 748.941 145.992 748.941 Z\" fill=\"#000000\" fill-rule=\"evenodd\" fill-opacity=\"1\" /><path clip-path=\"url(#clip870)\" d=\"M101.756 413.21 Q98.1447 413.21 96.316 416.775 Q94.5104 420.316 94.5104 427.446 Q94.5104 434.552 96.316 438.117 Q98.1447 441.659 101.756 441.659 Q105.39 441.659 107.196 438.117 Q109.024 434.552 109.024 427.446 Q109.024 420.316 107.196 416.775 Q105.39 413.21 101.756 413.21 M101.756 409.506 Q107.566 409.506 110.621 414.113 Q113.7 418.696 113.7 427.446 Q113.7 436.173 110.621 440.779 Q107.566 445.362 101.756 445.362 Q95.9456 445.362 92.8669 440.779 Q89.8114 436.173 89.8114 427.446 Q89.8114 418.696 92.8669 414.113 Q95.9456 409.506 101.756 409.506 Z\" fill=\"#000000\" fill-rule=\"evenodd\" fill-opacity=\"1\" /><path clip-path=\"url(#clip870)\" d=\"M121.918 438.812 L126.802 438.812 L126.802 444.691 L121.918 444.691 L121.918 438.812 Z\" fill=\"#000000\" fill-rule=\"evenodd\" fill-opacity=\"1\" /><path clip-path=\"url(#clip870)\" d=\"M137.033 410.131 L155.39 410.131 L155.39 414.066 L141.316 414.066 L141.316 422.538 Q142.334 422.191 143.353 422.029 Q144.371 421.844 145.39 421.844 Q151.177 421.844 154.556 425.015 Q157.936 428.187 157.936 433.603 Q157.936 439.182 154.464 442.284 Q150.992 445.362 144.672 445.362 Q142.496 445.362 140.228 444.992 Q137.982 444.622 135.575 443.881 L135.575 439.182 Q137.658 440.316 139.881 440.872 Q142.103 441.427 144.58 441.427 Q148.584 441.427 150.922 439.321 Q153.26 437.214 153.26 433.603 Q153.26 429.992 150.922 427.886 Q148.584 425.779 144.58 425.779 Q142.705 425.779 140.83 426.196 Q138.978 426.613 137.033 427.492 L137.033 410.131 Z\" fill=\"#000000\" fill-rule=\"evenodd\" fill-opacity=\"1\" /><path clip-path=\"url(#clip870)\" d=\"M91.5706 101.321 L99.2095 101.321 L99.2095 74.9555 L90.8993 76.6222 L90.8993 72.3629 L99.1632 70.6963 L103.839 70.6963 L103.839 101.321 L111.478 101.321 L111.478 105.256 L91.5706 105.256 L91.5706 101.321 Z\" fill=\"#000000\" fill-rule=\"evenodd\" fill-opacity=\"1\" /><path clip-path=\"url(#clip870)\" d=\"M120.922 99.3767 L125.807 99.3767 L125.807 105.256 L120.922 105.256 L120.922 99.3767 Z\" fill=\"#000000\" fill-rule=\"evenodd\" fill-opacity=\"1\" /><path clip-path=\"url(#clip870)\" d=\"M145.992 73.775 Q142.381 73.775 140.552 77.3398 Q138.746 80.8814 138.746 88.011 Q138.746 95.1174 140.552 98.6822 Q142.381 102.224 145.992 102.224 Q149.626 102.224 151.431 98.6822 Q153.26 95.1174 153.26 88.011 Q153.26 80.8814 151.431 77.3398 Q149.626 73.775 145.992 73.775 M145.992 70.0713 Q151.802 70.0713 154.857 74.6777 Q157.936 79.261 157.936 88.011 Q157.936 96.7378 154.857 101.344 Q151.802 105.928 145.992 105.928 Q140.181 105.928 137.103 101.344 Q134.047 96.7378 134.047 88.011 Q134.047 79.261 137.103 74.6777 Q140.181 70.0713 145.992 70.0713 Z\" fill=\"#000000\" fill-rule=\"evenodd\" fill-opacity=\"1\" /><polyline clip-path=\"url(#clip872)\" style=\"stroke:#009af9; stroke-linecap:round; stroke-linejoin:round; stroke-width:4; stroke-opacity:1; fill:none\" points=\"\n",
       "  2291.66,766.846 255.035,87.9763 255.035,1445.72 2291.66,766.846 \n",
       "  \"/>\n",
       "<path clip-path=\"url(#clip870)\" d=\"\n",
       "M2012.48 198.898 L2280.8 198.898 L2280.8 95.2176 L2012.48 95.2176  Z\n",
       "  \" fill=\"#ffffff\" fill-rule=\"evenodd\" fill-opacity=\"1\"/>\n",
       "<polyline clip-path=\"url(#clip870)\" style=\"stroke:#000000; stroke-linecap:round; stroke-linejoin:round; stroke-width:4; stroke-opacity:1; fill:none\" points=\"\n",
       "  2012.48,198.898 2280.8,198.898 2280.8,95.2176 2012.48,95.2176 2012.48,198.898 \n",
       "  \"/>\n",
       "<polyline clip-path=\"url(#clip870)\" style=\"stroke:#009af9; stroke-linecap:round; stroke-linejoin:round; stroke-width:4; stroke-opacity:1; fill:none\" points=\"\n",
       "  2036.47,147.058 2180.39,147.058 \n",
       "  \"/>\n",
       "<path clip-path=\"url(#clip870)\" d=\"M2218.22 166.745 Q2216.42 171.375 2214.7 172.787 Q2212.99 174.199 2210.12 174.199 L2206.72 174.199 L2206.72 170.634 L2209.22 170.634 Q2210.98 170.634 2211.95 169.8 Q2212.92 168.967 2214.1 165.865 L2214.86 163.921 L2204.38 138.412 L2208.89 138.412 L2216.99 158.689 L2225.1 138.412 L2229.61 138.412 L2218.22 166.745 Z\" fill=\"#000000\" fill-rule=\"evenodd\" fill-opacity=\"1\" /><path clip-path=\"url(#clip870)\" d=\"M2236.9 160.402 L2244.54 160.402 L2244.54 134.037 L2236.23 135.703 L2236.23 131.444 L2244.49 129.778 L2249.17 129.778 L2249.17 160.402 L2256.81 160.402 L2256.81 164.338 L2236.9 164.338 L2236.9 160.402 Z\" fill=\"#000000\" fill-rule=\"evenodd\" fill-opacity=\"1\" /></svg>\n"
      ]
     },
     "execution_count": 17,
     "metadata": {},
     "output_type": "execute_result"
    }
   ],
   "source": [
    "x = [x.e1 for x in [a,b,c,a]]\n",
    "y = [y.e2 for y in [a,b,c,a]]\n",
    "\n",
    "plot(x,y)"
   ]
  },
  {
   "cell_type": "markdown",
   "id": "88234bfe-afc5-4ca3-bdbf-3a04d2c48791",
   "metadata": {},
   "source": [
    "# Example 2"
   ]
  },
  {
   "cell_type": "code",
   "execution_count": 29,
   "id": "5ac3a06d-bc82-49a1-a957-6585d7b8bd08",
   "metadata": {},
   "outputs": [
    {
     "data": {
      "text/plain": [
       "Cl(2,0,1)"
      ]
     },
     "execution_count": 29,
     "metadata": {},
     "output_type": "execute_result"
    }
   ],
   "source": [
    "cl = CliffordAlgebra(2,0,1)"
   ]
  },
  {
   "cell_type": "code",
   "execution_count": 37,
   "id": "336ea002-3577-471d-90ed-2a6e3668316f",
   "metadata": {},
   "outputs": [
    {
     "data": {
      "text/plain": [
       "+1 ∈ Cl(2, 0, 1)"
      ]
     },
     "execution_count": 37,
     "metadata": {},
     "output_type": "execute_result"
    }
   ],
   "source": [
    "cl.𝟏"
   ]
  },
  {
   "cell_type": "code",
   "execution_count": 39,
   "id": "168269dd-12b7-4bec-a1b1-bd7097ad0f7b",
   "metadata": {},
   "outputs": [
    {
     "data": {
      "text/plain": [
       "point (generic function with 1 method)"
      ]
     },
     "execution_count": 39,
     "metadata": {},
     "output_type": "execute_result"
    }
   ],
   "source": [
    "point(x,y) = 1cl.𝟏 + x*cl.e1 + y*cl.e2"
   ]
  },
  {
   "cell_type": "code",
   "execution_count": 49,
   "id": "e041d6be-87de-4109-b872-5d975b4a1b87",
   "metadata": {},
   "outputs": [
    {
     "data": {
      "text/plain": [
       "+1.0+1.0×e1-0.5×e2 ∈ Cl(2, 0, 1)"
      ]
     },
     "execution_count": 49,
     "metadata": {},
     "output_type": "execute_result"
    }
   ],
   "source": [
    "a = point(-1.5, -0.5)\n",
    "b = point( 0.5, 1.5)\n",
    "c = point( 1.0, -0.5)"
   ]
  },
  {
   "cell_type": "code",
   "execution_count": 50,
   "id": "c9eef0a5-bbcb-4d4f-b411-25c1417c05cf",
   "metadata": {},
   "outputs": [
    {
     "data": {
      "text/plain": [
       "+2.0-1.0×e1+1.0×e2 ∈ Cl(2, 0, 1)"
      ]
     },
     "execution_count": 50,
     "metadata": {},
     "output_type": "execute_result"
    }
   ],
   "source": []
  },
  {
   "cell_type": "code",
   "execution_count": 48,
   "id": "eb79d132-a5dc-4868-aecb-0fbfd4cc427d",
   "metadata": {},
   "outputs": [
    {
     "data": {
      "text/plain": [
       "+3.0+0.5×e2 ∈ Cl(2, 0, 1)"
      ]
     },
     "execution_count": 48,
     "metadata": {},
     "output_type": "execute_result"
    }
   ],
   "source": [
    "centroid = a+b+c\n",
    "centroid = A+B+C"
   ]
  },
  {
   "cell_type": "code",
   "execution_count": null,
   "id": "f78cff5b-d928-4cd2-8848-71bb6d1ee4c2",
   "metadata": {},
   "outputs": [],
   "source": []
  }
 ],
 "metadata": {
  "kernelspec": {
   "display_name": "Julia 1.8.2",
   "language": "julia",
   "name": "julia-1.8"
  },
  "language_info": {
   "file_extension": ".jl",
   "mimetype": "application/julia",
   "name": "julia",
   "version": "1.8.2"
  }
 },
 "nbformat": 4,
 "nbformat_minor": 5
}
