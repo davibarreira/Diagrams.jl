{
 "cells": [
  {
   "cell_type": "markdown",
   "id": "645e83a4-4375-4d4e-9338-a69a4526c341",
   "metadata": {},
   "source": [
    "# Conformal Geometry\n",
    "\n",
    "Conformal geometry studies *conformal structures*, or, *conformal trasnformations*.\n",
    "Topology is concerned with preserving connectivity (e.g. number of holes), while\n",
    "conformal geometry is concerned with preserving angles.\n",
    "Note that \"conformity\" is a stronger notion than topology, in the sense\n",
    "that a conformal equivalence implies topological equivalence.\n",
    "\n",
    "When modelling geometric objects, we can deal with different levels of abstraction. For example,\n",
    "if we want to create a type \"Triangle\" that encapsulates all triangles, what is the \"correct\" equivalence\n",
    "class to use for such modelling? We know that, from the start, a triangle has three vertices with v1\n",
    "connected to v2, v2 connected to v3 and v1. From an topological perspective, this view is yet lacking. We don't\n",
    "know if the triangle is filled or not, hence, it could either have one hole or zero holes."
   ]
  },
  {
   "cell_type": "code",
   "execution_count": 2,
   "id": "1e5dff5d-4f45-4353-b73f-4f58b5f420ed",
   "metadata": {},
   "outputs": [
    {
     "name": "stderr",
     "output_type": "stream",
     "text": [
      "\u001b[32m\u001b[1m  Activating\u001b[22m\u001b[39m project at `~/MEGA/EMAP/Diagrams.jl`\n"
     ]
    }
   ],
   "source": [
    "using Pkg, Revise\n",
    "Pkg.activate(\"../.\")"
   ]
  },
  {
   "cell_type": "code",
   "execution_count": 31,
   "id": "d2d462b0-9811-4ad8-b053-e55293edf4c5",
   "metadata": {},
   "outputs": [
    {
     "data": {
      "text/plain": [
       "mingrade"
      ]
     },
     "execution_count": 31,
     "metadata": {},
     "output_type": "execute_result"
    }
   ],
   "source": [
    "using CliffordAlgebras\n",
    "import CliffordAlgebras: basegrade\n",
    "using LinearAlgebra: norm, normalize, dot\n",
    "using Plots\n",
    "\n",
    "function getgradesdict(cl::CliffordAlgebra)\n",
    "    gradesdict = Dict(g =>[] for g in 0:sum(signature(cl)))\n",
    "    ngrades = sum(signature(cl))\n",
    "    for g in 0:ngrades\n",
    "        for (i,p) in enumerate(propertynames(cl))\n",
    "            if i <= sum(binomial.(dimcl,0:g))\n",
    "                push!(gradesdict[g],p)\n",
    "            end\n",
    "        end\n",
    "    end\n",
    "\n",
    "    return gradesdict\n",
    "end\n",
    "\n",
    "function Base.:≈(a::MultiVector,b::MultiVector)\n",
    "    vector(a) ≈ vector(b)\n",
    "end\n",
    "\n",
    "function multivector(cl::CliffordAlgebra,v::Vector)\n",
    "    bases = propertynames(cl)\n",
    "    mapreduce(x->x[1] * getproperty(cl,x[2]),+, zip(v,bases))\n",
    "end\n",
    "\n",
    "function Base.map(f, c::MultiVector)\n",
    "    multivector(algebra(c),map(f, vector(c)))\n",
    "end\n",
    "\n",
    "function Base.reduce(op, c::MultiVector)\n",
    "    reduce(op, vectorize(c))\n",
    "end\n",
    "\n",
    "\"\"\"\n",
    "vectorize(c::MultiVector)\n",
    "\n",
    "Turns a multivector into a vector of multivectors,\n",
    "where each element in a multivector with a single blade.\n",
    "\"\"\"\n",
    "function vectorize(c::MultiVector)\n",
    "    filter(x->!isapprox(norm_sqr(x),0),basevector.(Ref(algebra(c)), propertynames(c)) .* vector(c))\n",
    "end\n",
    "\n",
    "\"\"\"\n",
    "unvectorize(c::MultiVector)\n",
    "\n",
    "Turns a vector of multivectors into a multivector by\n",
    "summing each component.\n",
    "\"\"\"\n",
    "function unvectorize(c::MultiVector)\n",
    "    reduce(+,vectorize(B))\n",
    "end\n",
    "\n",
    "\"\"\"\n",
    "basesfromgrade(cl::CliffordAlgebra, k::Int)\n",
    "\n",
    "Returns a list of base multivector for a given\n",
    "grade `k`. Note that grades go from ``0`` to ``n``, \n",
    "where ``n`` is the dimension, given by the sum of\n",
    "the signature, e.g. ``R^{3,1,1}`` has\n",
    "``n = 5``.\n",
    "\"\"\"\n",
    "function basesfromgrade(cl::CliffordAlgebra, k::Int)\n",
    "    ngrades = sum(signature(cl))\n",
    "    i = sum(binomial.(ngrades,0:k-1))+1\n",
    "    j = sum(binomial.(ngrades,0:k))\n",
    "    basesymbol.(Ref(cl),i:j)\n",
    "end\n",
    "\n",
    "\n",
    "function norm_corr(a::MultiVector)\n",
    "    sqrt(abs(norm_sqr(a)))\n",
    "end\n",
    "\n",
    "\n",
    "bladenormalization(B::MultiVector) = B / norm_corr(B)\n",
    "orthogonalproj(c::MultiVector, B::MultiVector) = (c ⨼ B) * inv(B)\n",
    "orthogonalreject(a::MultiVector, B::MultiVector) = (a ∧ B) ⨽ inv(B)\n",
    "\n",
    "\"\"\"\n",
    "maxgrade(A::MultiVector)\n",
    "\n",
    "Returns the maximum grade ``k`` of a multivector A\n",
    "with non-null value, i.e. ``\\\\langle A \\\\rangle_{max}``\n",
    "is equal to `grade(A,maxgrade(A))`.\n",
    "\"\"\"\n",
    "function maxgrade(A::MultiVector)\n",
    "    D = sum(signature(algebra(A)))\n",
    "    i = findlast(!isapprox(0), norm_sqr(grade(A,k)) for k in 0:D)\n",
    "    if isnothing(i)\n",
    "        return 0\n",
    "    end\n",
    "    return i - 1\n",
    "end\n",
    "\"\"\"\n",
    "mingrade(A::MultiVector)\n",
    "\n",
    "Returns the minimum grade ``k`` of a multivector A\n",
    "with non-null value, or returns 0.\n",
    "\"\"\"\n",
    "function mingrade(A::MultiVector)\n",
    "    D = sum(signature(algebra(A)))\n",
    "    i = findfirst(!isapprox(0), norm_sqr(grade(A,k)) for k in 0:D)\n",
    "    if isnothing(i)\n",
    "        return 0\n",
    "    end\n",
    "    return i - 1\n",
    "end\n"
   ]
  },
  {
   "cell_type": "code",
   "execution_count": 32,
   "id": "0ec8cb5a-3791-4c6f-b4d8-fc229a7bcb53",
   "metadata": {},
   "outputs": [
    {
     "data": {
      "text/plain": [
       "(:𝟏, :e1, :e2, :e3, :e₊, :e₋, :e1e2, :e1e3, :e2e3, :e1e₊, :e2e₊, :e3e₊, :e1e₋, :e2e₋, :e3e₋, :e₊e₋, :e1e2e3, :e1e₊e2, :e1e3e₊, :e2e₊e3, :e1e2e₋, :e1e₋e3, :e2e3e₋, :e1e₊e₋, :e2e₋e₊, :e3e₊e₋, :e1e2e3e₊, :e1e2e₋e3, :e1e2e₊e₋, :e1e3e₋e₊, :e2e3e₊e₋, :e1e2e3e₊e₋)"
      ]
     },
     "execution_count": 32,
     "metadata": {},
     "output_type": "execute_result"
    }
   ],
   "source": [
    "cl = CliffordAlgebra(:CGA3D)\n",
    "\n",
    "𝟏  = cl.𝟏\n",
    "e1 = cl.e1\n",
    "e2 = cl.e2\n",
    "e3 = cl.e3\n",
    "e₊ = cl.e₊\n",
    "e₋ = cl.e₋\n",
    "\n",
    "no = (cl.e₊ + cl.e₋)/2\n",
    "n∞ = cl.e₋ - cl.e₊\n",
    "\n",
    "propertynames(cl)"
   ]
  },
  {
   "cell_type": "code",
   "execution_count": 33,
   "id": "6a99386f-03f9-4529-8c4b-a349326569c6",
   "metadata": {},
   "outputs": [
    {
     "name": "stdout",
     "output_type": "stream",
     "text": [
      "e₊ ⋅ e₋ = 0\n",
      "e₊ ⋅ e₊ = +1 ∈ Cl(4, 1, 0)\n",
      "no ⋅ n∞ = -1.0 ∈ Cl(4, 1, 0)\n",
      "no ⋅ no = 0\n",
      "n∞ ⋅ n∞ = 0\n"
     ]
    }
   ],
   "source": [
    "@show e₊ ⋅ e₋\n",
    "@show e₊ ⋅ e₊\n",
    "@show no ⋅ n∞\n",
    "@show no ⋅ no\n",
    "@show n∞ ⋅ n∞;"
   ]
  },
  {
   "cell_type": "code",
   "execution_count": 34,
   "id": "0c2fc0e9-ca08-417b-bcd4-29d37854cd0e",
   "metadata": {},
   "outputs": [
    {
     "data": {
      "text/plain": [
       "point (generic function with 4 methods)"
      ]
     },
     "execution_count": 34,
     "metadata": {},
     "output_type": "execute_result"
    }
   ],
   "source": [
    "point(x=0,y=0,z=0) = no + x*cl.e1 + y*cl.e2 + z*cl.e3 + (x^2 + y^2 + z^2)/2 * n∞\n",
    "point(;x=0,y=0,z=0) = no + x*cl.e1 + y*cl.e2 + z*cl.e3 + (x^2 + y^2 + z^2)/2 * n∞"
   ]
  },
  {
   "cell_type": "code",
   "execution_count": 63,
   "id": "4f3d25e2-7ca3-438b-a797-3d504b8e964a",
   "metadata": {},
   "outputs": [
    {
     "data": {
      "text/plain": [
       "-2.0×e2e3-4.0×e3e₊-4.0×e3e₋ ∈ Cl(4, 1, 0)"
      ]
     },
     "execution_count": 63,
     "metadata": {},
     "output_type": "execute_result"
    }
   ],
   "source": [
    "a = point()\n",
    "b = point(1,1)\n",
    "l1 = dual(a ∧ b ∧ n∞)\n",
    "\n",
    "a = point(0,2)\n",
    "b = point(2,2)\n",
    "l2 = dual(a ∧ b ∧ n∞)"
   ]
  },
  {
   "cell_type": "code",
   "execution_count": 72,
   "id": "a2d32b4a-d2fa-4de5-9c78-c2dd109c51ac",
   "metadata": {},
   "outputs": [
    {
     "data": {
      "text/plain": [
       "-2.0+2.0×e1e2-4.0×e1e₊+4.0×e2e₊-4.0×e1e₋+4.0×e2e₋ ∈ Cl(4, 1, 0)"
      ]
     },
     "execution_count": 72,
     "metadata": {},
     "output_type": "execute_result"
    }
   ],
   "source": [
    "# grade(l1*l2,5\n",
    "n = sum(signature(cl))\n",
    "r = mingrade(l1)\n",
    "s = mingrade(l2)\n",
    "\n",
    "# grade(l1*l2, 2n - r - s)\n",
    "l1*l2"
   ]
  },
  {
   "cell_type": "code",
   "execution_count": 83,
   "id": "a7b6bcee-b955-4518-8f4c-073a2d567e1a",
   "metadata": {},
   "outputs": [
    {
     "data": {
      "text/plain": [
       "+1.0×e1e3-1.0×e2e3 ∈ Cl(4, 1, 0)"
      ]
     },
     "execution_count": 83,
     "metadata": {},
     "output_type": "execute_result"
    }
   ],
   "source": [
    "l1"
   ]
  },
  {
   "cell_type": "code",
   "execution_count": 84,
   "id": "46f47871-819e-4c45-9fc6-85b4473cda50",
   "metadata": {},
   "outputs": [
    {
     "data": {
      "text/plain": [
       "+2.0×e2-1.5×e₊+2.5×e₋ ∈ Cl(4, 1, 0)"
      ]
     },
     "execution_count": 84,
     "metadata": {},
     "output_type": "execute_result"
    }
   ],
   "source": [
    "a"
   ]
  },
  {
   "cell_type": "code",
   "execution_count": 85,
   "id": "1a65eece-90dd-474e-a914-21da24857768",
   "metadata": {},
   "outputs": [
    {
     "data": {
      "text/plain": [
       "-1×e₊+1×e₋ ∈ Cl(4, 1, 0)"
      ]
     },
     "execution_count": 85,
     "metadata": {},
     "output_type": "execute_result"
    }
   ],
   "source": [
    "n∞"
   ]
  }
 ],
 "metadata": {
  "kernelspec": {
   "display_name": "Julia 1.8.2",
   "language": "julia",
   "name": "julia-1.8"
  },
  "language_info": {
   "file_extension": ".jl",
   "mimetype": "application/julia",
   "name": "julia",
   "version": "1.8.2"
  }
 },
 "nbformat": 4,
 "nbformat_minor": 5
}
