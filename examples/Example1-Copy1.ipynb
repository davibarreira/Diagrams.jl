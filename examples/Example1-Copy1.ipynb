{
 "cells": [
  {
   "cell_type": "code",
   "execution_count": 1,
   "id": "df6a1d2d-6701-404e-9ebb-2c9b72f12ac6",
   "metadata": {},
   "outputs": [
    {
     "name": "stderr",
     "output_type": "stream",
     "text": [
      "\u001b[32m\u001b[1m  Activating\u001b[22m\u001b[39m project at `~/MEGA/EMAP/Diagrams.jl`\n"
     ]
    }
   ],
   "source": [
    "using Pkg, Revise\n",
    "Pkg.activate(\"../.\")\n",
    "# using Luxor\n",
    "using Colors\n",
    "using Parameters\n",
    "using Diagrams\n",
    "using Hyperscript\n",
    "using Accessors #Package for updating immutable structs\n",
    "\n",
    "# Check LazySets.jl for functions on Convex Sets\n",
    "using GeometryBasics"
   ]
  },
  {
   "cell_type": "code",
   "execution_count": 2,
   "id": "dab735e3-3cb8-42e3-8f1b-ce374cf77978",
   "metadata": {},
   "outputs": [],
   "source": [
    "# Note, the point types must match. This means, int point and float points are different\n",
    "tri = Triangle(Point(0.0,0), Point(0.5,1), Point(1.0,0));"
   ]
  },
  {
   "cell_type": "code",
   "execution_count": 2,
   "id": "18a8e3f1-8062-4453-9d3f-33d4e1bb499f",
   "metadata": {},
   "outputs": [
    {
     "ename": "LoadError",
     "evalue": "UndefVarError: area not defined",
     "output_type": "error",
     "traceback": [
      "UndefVarError: area not defined",
      "",
      "Stacktrace:",
      " [1] top-level scope",
      "   @ In[2]:1",
      " [2] eval",
      "   @ ./boot.jl:368 [inlined]",
      " [3] include_string(mapexpr::typeof(REPL.softscope), mod::Module, code::String, filename::String)",
      "   @ Base ./loading.jl:1428"
     ]
    }
   ],
   "source": [
    "area(tri)"
   ]
  },
  {
   "cell_type": "code",
   "execution_count": 3,
   "id": "f71d0581-8977-4362-b962-b70d43973c39",
   "metadata": {},
   "outputs": [],
   "source": [
    "abstract type Mark end\n",
    "# abstract type Space end"
   ]
  },
  {
   "cell_type": "code",
   "execution_count": 4,
   "id": "23006b22-6172-47d4-ac05-2c37eb7dee39",
   "metadata": {},
   "outputs": [
    {
     "data": {
      "text/plain": [
       "Square"
      ]
     },
     "execution_count": 4,
     "metadata": {},
     "output_type": "execute_result"
    }
   ],
   "source": [
    "abstract type Primitive <: Mark end\n",
    "struct Nil <: Primitive end\n",
    "\n",
    "@with_kw struct Circle <: Primitive\n",
    "    origin::Point = Point(0,0)\n",
    "    r::Real = 1\n",
    "    fillcolor::Color = colorant\"black\"\n",
    "    strokecolor::Color = colorant\"black\"\n",
    "    strokewidth::Real = 0.1\n",
    "    strokestyle::String = \"solid\"\n",
    "end\n",
    "\n",
    "@with_kw struct Square <: Primitive\n",
    "    origin::Point = Point(0,0)\n",
    "    l::Real = 1\n",
    "    fillcolor::Color = colorant\"black\"\n",
    "    strokecolor::Color = colorant\"black\"\n",
    "    strokewidth::Real = 0.1\n",
    "    strokestyle::String = \"solid\"\n",
    "end"
   ]
  },
  {
   "cell_type": "code",
   "execution_count": null,
   "id": "4590621f-c4f6-43d6-a09c-eb68f51c3c88",
   "metadata": {},
   "outputs": [],
   "source": [
    "@with_kw struct Diagram\n",
    "    p::Vector{Primitive} = []\n",
    "end\n",
    "Diagram(p::Primitive) = Diagram([p])\n",
    "\n",
    "unD(d::Diagram) = d.p\n",
    "prim(p::Primitive) = Diagram([p])\n",
    "\n",
    "Base.:*(p::Vector{Primitive}, q::Vector{Primitive}) = vcat(p,q)\n",
    "Base.:∘(d1::Diagram, q::Diagram) = Diagram(d1.p * d2.p)"
   ]
  },
  {
   "cell_type": "code",
   "execution_count": null,
   "id": "09f6a2b0-c7f6-44b7-93d7-0da429402d06",
   "metadata": {},
   "outputs": [],
   "source": [
    "Diagram(Circle()).p * Diagram(Square()).p * Diagram().p\n",
    "\n",
    "d1 = Diagram(Circle())\n",
    "d2 = Diagram(Square())\n",
    "\n",
    "d3 = d1 ∘ d2\n",
    "\n",
    "d3.p"
   ]
  },
  {
   "cell_type": "code",
   "execution_count": null,
   "id": "d9d8aedf-e604-43ed-a263-b934df51ea24",
   "metadata": {},
   "outputs": [],
   "source": []
  },
  {
   "cell_type": "code",
   "execution_count": null,
   "id": "168d4593-a22d-4410-bb7c-16bfcc11889c",
   "metadata": {},
   "outputs": [],
   "source": []
  },
  {
   "cell_type": "code",
   "execution_count": null,
   "id": "d03548dd-ffa0-4cbb-8c5a-8282a5064ddf",
   "metadata": {},
   "outputs": [],
   "source": [
    "@with_kw struct Euclidean2D <: Space\n",
    "    size::Tuple{Real,Real} = (100,100)\n",
    "end"
   ]
  },
  {
   "cell_type": "code",
   "execution_count": null,
   "id": "162ee831-f592-4587-b689-534470f36e6c",
   "metadata": {},
   "outputs": [],
   "source": [
    "c = Circle()\n",
    "\n",
    "s = Euclidean2D()"
   ]
  },
  {
   "cell_type": "code",
   "execution_count": null,
   "id": "5518891c-a8ff-4ad6-ad76-2cf2b1660d5b",
   "metadata": {},
   "outputs": [],
   "source": [
    "function (s::Euclidean2D)(c::Circle)\n",
    "    c_new = c\n",
    "    scaler = min(s.size...)/2\n",
    "    c_new = @set c_new.r = c_new.r * scaler\n",
    "    c_new = @set c_new.origin = c_new.origin * scaler\n",
    "    c_new = @set c_new.strokewidth = c_new.strokewidth* scaler\n",
    "    return c_new\n",
    "end"
   ]
  },
  {
   "cell_type": "code",
   "execution_count": null,
   "id": "73ec93ab-7310-4973-9c03-953b80df453f",
   "metadata": {},
   "outputs": [],
   "source": [
    "function draw(c::Circle, context)\n",
    "    context(m(\"circle\",r=c.r, style=\"stroke: black; fill: none\", transform=\"translate($(c.origin))\"))\n",
    "end"
   ]
  },
  {
   "cell_type": "code",
   "execution_count": null,
   "id": "6c2b3a5f-1a9c-4ca7-99e6-523b8e5fa9ae",
   "metadata": {},
   "outputs": [],
   "source": [
    "function svgcanvas(s::Space, pad=10)\n",
    "    svg = m(\"svg\",\n",
    "        width = s.size[1]+pad,\n",
    "        height = s.size[2]+pad,\n",
    "        viewBox=\"$(-(s.size[1]+pad)/2) $(-(s.size[2]+pad)/2) $(s.size[1]+pad) $(s.size[2]+pad)\")\n",
    "    return svg\n",
    "end\n",
    "\n",
    "svg = svgcanvas(s)\n",
    "svg = draw(s(c), svg)\n",
    "svg = draw(Circle(r=30), svg)"
   ]
  },
  {
   "cell_type": "code",
   "execution_count": null,
   "id": "9dc0743f-b4cb-44a8-ab8b-d3142802af1a",
   "metadata": {},
   "outputs": [],
   "source": [
    "s.size"
   ]
  },
  {
   "cell_type": "code",
   "execution_count": null,
   "id": "978a2978-dadf-442c-82b6-fa81323a95da",
   "metadata": {},
   "outputs": [],
   "source": [
    "print(svg)"
   ]
  },
  {
   "cell_type": "code",
   "execution_count": null,
   "id": "ee5e59b4-498d-4ecc-8ed6-44f0d73ce51c",
   "metadata": {},
   "outputs": [],
   "source": [
    "d = Drawing(200,200,:svg)\n",
    "origin()\n",
    "draw(Circle())\n",
    "finish()\n",
    "d"
   ]
  },
  {
   "cell_type": "code",
   "execution_count": null,
   "id": "fb7bc8ba-a24b-47b4-be0b-bc837e52d2c2",
   "metadata": {},
   "outputs": [],
   "source": []
  },
  {
   "cell_type": "code",
   "execution_count": null,
   "id": "78b4f95e-0270-4194-b31d-487e60c42a9e",
   "metadata": {},
   "outputs": [],
   "source": [
    "d = Drawing(400,400,:svg)\n",
    "background(\"antiquewhite\")\n",
    "fontsize(12)\n",
    "text(\"P\",Point(0+5,400 -5),valign=:bottom)\n",
    "\n",
    "origin()\n",
    "\n",
    "sethue(\"lightgrey\")\n",
    "box(Point(10,10),Point(150,150),:fill)\n",
    "sethue(\"black\")\n",
    "text(\"P2\",Point(10+5,150 -5),valign=:bottom)\n",
    "\n",
    "sethue(\"lightgrey\")\n",
    "box(Point(-150,-150),Point(-10,-10),:fill)\n",
    "sethue(\"black\")\n",
    "star(Point(50,90),10,5,0.5,0.9,:fill)\n",
    "star(Point(50+50,50),10,5,0.5,0.9,:fill)\n",
    "text(\"P1\",Point(-150+5,-10-5),valign=:bottom)\n",
    "\n",
    "circle(Point(-50,-90),8,:fill)\n",
    "circle(Point(-50-50,-50),8,:fill)\n",
    "\n",
    "sethue(\"darkblue\")\n",
    "line(Point(-50,-90),Point(50+50,50),:stroke)\n",
    "line(Point(-50-50,-50),Point(50,90),:stroke)\n",
    "\n",
    "\n",
    "finish()\n",
    "d"
   ]
  },
  {
   "cell_type": "code",
   "execution_count": null,
   "id": "c75ad7d2-71c1-4695-82e1-c3bb91c3a625",
   "metadata": {},
   "outputs": [],
   "source": []
  }
 ],
 "metadata": {
  "kernelspec": {
   "display_name": "Julia 1.8.2",
   "language": "julia",
   "name": "julia-1.8"
  },
  "language_info": {
   "file_extension": ".jl",
   "mimetype": "application/julia",
   "name": "julia",
   "version": "1.8.2"
  }
 },
 "nbformat": 4,
 "nbformat_minor": 5
}
