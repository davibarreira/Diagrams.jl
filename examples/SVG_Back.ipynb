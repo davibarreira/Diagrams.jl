{
 "cells": [
  {
   "cell_type": "code",
   "execution_count": 48,
   "id": "df6a1d2d-6701-404e-9ebb-2c9b72f12ac6",
   "metadata": {},
   "outputs": [
    {
     "name": "stderr",
     "output_type": "stream",
     "text": [
      "\u001b[32m\u001b[1m  Activating\u001b[22m\u001b[39m project at `~/MEGA/EMAP/Diagrams.jl`\n"
     ]
    }
   ],
   "source": [
    "using Pkg, Revise\n",
    "Pkg.activate(\"../.\")\n",
    "using Luxor\n",
    "using Colors\n",
    "using Parameters\n",
    "using Diagrams\n",
    "using Hyperscript"
   ]
  },
  {
   "cell_type": "code",
   "execution_count": 49,
   "id": "f71d0581-8977-4362-b962-b70d43973c39",
   "metadata": {},
   "outputs": [],
   "source": [
    "abstract type Mark end"
   ]
  },
  {
   "cell_type": "code",
   "execution_count": 50,
   "id": "23006b22-6172-47d4-ac05-2c37eb7dee39",
   "metadata": {},
   "outputs": [],
   "source": [
    "abstract type Primitive <: Mark end"
   ]
  },
  {
   "cell_type": "code",
   "execution_count": 189,
   "id": "a14e2240-49b6-47bd-be26-06f7b84f90a5",
   "metadata": {},
   "outputs": [
    {
     "data": {
      "text/html": [
       "<svg height=\"170\" width=\"140\"><circle cy=\"95\" style=\"stroke: black; fill: none\" r=\"50\" cx=\"70\" /><circle cy=\"80\" stroke=\"black\" r=\"5\" fill=\"#339933\" cx=\"55\" /><circle cy=\"80\" stroke=\"black\" r=\"5\" fill=\"#339933\" cx=\"85\" /><g id=\"whiskers\"><line x1=\"75\" y1=\"95\" stroke=\"black\" x2=\"135\" y2=\"85\" /><line x1=\"75\" y1=\"95\" stroke=\"black\" x2=\"135\" y2=\"105\" /></g><g id=\"whiskers\" transform=\"scale(-1 1) translate(-140 0)\"><line x1=\"75\" y1=\"95\" stroke=\"black\" x2=\"135\" y2=\"85\" /><line x1=\"75\" y1=\"95\" stroke=\"black\" x2=\"135\" y2=\"105\" /></g></svg>"
      ],
      "text/plain": [
       "<svg height=\"170\" width=\"140\"><circle cy=\"95\" style=\"stroke: black; fill: none\" r=\"50\" cx=\"70\" /><circle cy=\"80\" stroke=\"black\" r=\"5\" fill=\"#339933\" cx=\"55\" /><circle cy=\"80\" stroke=\"black\" r=\"5\" fill=\"#339933\" cx=\"85\" /><g id=\"whiskers\"><line x1=\"75\" y1=\"95\" stroke=\"black\" x2=\"135\" y2=\"85\" /><line x1=\"75\" y1=\"95\" stroke=\"black\" x2=\"135\" y2=\"105\" /></g><g id=\"whiskers\" transform=\"scale(-1 1) translate(-140 0)\"><line x1=\"75\" y1=\"95\" stroke=\"black\" x2=\"135\" y2=\"85\" /><line x1=\"75\" y1=\"95\" stroke=\"black\" x2=\"135\" y2=\"105\" /></g></svg>"
      ]
     },
     "execution_count": 189,
     "metadata": {},
     "output_type": "execute_result"
    }
   ],
   "source": [
    "svg = m(\"svg\", width=140, height=170);\n",
    "svg = svg(m(\"circle\", cx=70, cy =95,r=50, style=\"stroke: black; fill: none\"))\n",
    "svg = svg(m(\"circle\", cx=55, cy =80,r=5, stroke=\"black\", fill=\"#339933\"))\n",
    "svg = svg(m(\"circle\", cx=85, cy =80,r=5, stroke=\"black\", fill=\"#339933\"))\n",
    "whiskers = m(\"g\",id=\"whiskers\")\n",
    "whiskers = whiskers(m(\"line\", x1=75, y1=95, x2=135, y2=85, stroke=\"black\"))\n",
    "whiskers = whiskers(m(\"line\", x1=75, y1=95, x2=135, y2=105, stroke=\"black\"))\n",
    "svg = svg(whiskers)\n",
    "whiskers2 = whiskers(transform = \"scale(-1 1) translate(-140 0)\")\n",
    "svg = svg(whiskers2)"
   ]
  },
  {
   "cell_type": "code",
   "execution_count": 192,
   "id": "cac4c899-14e6-468b-9eb3-dccf692272e2",
   "metadata": {},
   "outputs": [
    {
     "data": {
      "text/plain": [
       "Dict{String, Any} with 2 entries:\n",
       "  \"height\" => 170\n",
       "  \"width\"  => 140"
      ]
     },
     "execution_count": 192,
     "metadata": {},
     "output_type": "execute_result"
    }
   ],
   "source": [
    "Hyperscript.attrs(svg)"
   ]
  },
  {
   "cell_type": "code",
   "execution_count": null,
   "id": "b4ae33cb-8dfa-47c5-b245-98076cab0e54",
   "metadata": {},
   "outputs": [],
   "source": []
  }
 ],
 "metadata": {
  "kernelspec": {
   "display_name": "Julia 1.8.2",
   "language": "julia",
   "name": "julia-1.8"
  },
  "language_info": {
   "file_extension": ".jl",
   "mimetype": "application/julia",
   "name": "julia",
   "version": "1.8.2"
  }
 },
 "nbformat": 4,
 "nbformat_minor": 5
}
