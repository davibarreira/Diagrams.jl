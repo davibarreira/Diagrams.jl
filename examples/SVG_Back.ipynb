{
 "cells": [
  {
   "cell_type": "code",
   "execution_count": 9,
   "id": "df6a1d2d-6701-404e-9ebb-2c9b72f12ac6",
   "metadata": {},
   "outputs": [
    {
     "name": "stderr",
     "output_type": "stream",
     "text": [
      "\u001b[32m\u001b[1m  Activating\u001b[22m\u001b[39m project at `~/MEGA/EMAP/Diagrams.jl`\n",
      "┌ Info: Precompiling Diagrams [a69fd968-8d7f-4e2f-a55e-45d0563091a6]\n",
      "└ @ Base loading.jl:1664\n"
     ]
    }
   ],
   "source": [
    "using Pkg, Revise\n",
    "Pkg.activate(\"../.\")\n",
    "using Luxor\n",
    "using Colors\n",
    "using Parameters\n",
    "using Diagrams\n",
    "using Hyperscript"
   ]
  },
  {
   "cell_type": "code",
   "execution_count": 10,
   "id": "f71d0581-8977-4362-b962-b70d43973c39",
   "metadata": {},
   "outputs": [],
   "source": [
    "abstract type Mark end"
   ]
  },
  {
   "cell_type": "code",
   "execution_count": 11,
   "id": "23006b22-6172-47d4-ac05-2c37eb7dee39",
   "metadata": {},
   "outputs": [],
   "source": [
    "abstract type Primitive <: Mark end"
   ]
  },
  {
   "cell_type": "code",
   "execution_count": 12,
   "id": "a14e2240-49b6-47bd-be26-06f7b84f90a5",
   "metadata": {},
   "outputs": [
    {
     "data": {
      "text/html": [
       "<svg height=\"170\" width=\"140\"><circle cy=\"95\" style=\"stroke: black; fill: none\" r=\"50\" cx=\"70\" /><circle cy=\"80\" stroke=\"black\" r=\"5\" fill=\"#339933\" cx=\"55\" /><circle cy=\"80\" stroke=\"black\" r=\"5\" fill=\"#339933\" cx=\"85\" /><g id=\"whiskers\"><line x1=\"75\" y1=\"95\" stroke=\"black\" x2=\"135\" y2=\"85\" /><line x1=\"75\" y1=\"95\" stroke=\"black\" x2=\"135\" y2=\"105\" /></g><g id=\"whiskers\" transform=\"scale(-1 1) translate(-140 0)\"><line x1=\"75\" y1=\"95\" stroke=\"black\" x2=\"135\" y2=\"85\" /><line x1=\"75\" y1=\"95\" stroke=\"black\" x2=\"135\" y2=\"105\" /></g></svg>"
      ],
      "text/plain": [
       "<svg height=\"170\" width=\"140\"><circle cy=\"95\" style=\"stroke: black; fill: none\" r=\"50\" cx=\"70\" /><circle cy=\"80\" stroke=\"black\" r=\"5\" fill=\"#339933\" cx=\"55\" /><circle cy=\"80\" stroke=\"black\" r=\"5\" fill=\"#339933\" cx=\"85\" /><g id=\"whiskers\"><line x1=\"75\" y1=\"95\" stroke=\"black\" x2=\"135\" y2=\"85\" /><line x1=\"75\" y1=\"95\" stroke=\"black\" x2=\"135\" y2=\"105\" /></g><g id=\"whiskers\" transform=\"scale(-1 1) translate(-140 0)\"><line x1=\"75\" y1=\"95\" stroke=\"black\" x2=\"135\" y2=\"85\" /><line x1=\"75\" y1=\"95\" stroke=\"black\" x2=\"135\" y2=\"105\" /></g></svg>"
      ]
     },
     "execution_count": 12,
     "metadata": {},
     "output_type": "execute_result"
    }
   ],
   "source": [
    "svg = m(\"svg\", width=140, height=170);\n",
    "svg = svg(m(\"circle\", cx=70, cy =95,r=50, style=\"stroke: black; fill: none\"))\n",
    "svg = svg(m(\"circle\", cx=55, cy =80,r=5, stroke=\"black\", fill=\"#339933\"))\n",
    "svg = svg(m(\"circle\", cx=85, cy =80,r=5, stroke=\"black\", fill=\"#339933\"))\n",
    "whiskers = m(\"g\",id=\"whiskers\")\n",
    "whiskers = whiskers(m(\"line\", x1=75, y1=95, x2=135, y2=85, stroke=\"black\"))\n",
    "whiskers = whiskers(m(\"line\", x1=75, y1=95, x2=135, y2=105, stroke=\"black\"))\n",
    "svg = svg(whiskers)\n",
    "whiskers2 = whiskers(transform = \"scale(-1 1) translate(-140 0)\")\n",
    "svg = svg(whiskers2)"
   ]
  },
  {
   "cell_type": "code",
   "execution_count": 13,
   "id": "cac4c899-14e6-468b-9eb3-dccf692272e2",
   "metadata": {},
   "outputs": [
    {
     "data": {
      "text/plain": [
       "Dict{String, Any} with 2 entries:\n",
       "  \"height\" => 170\n",
       "  \"width\"  => 140"
      ]
     },
     "execution_count": 13,
     "metadata": {},
     "output_type": "execute_result"
    }
   ],
   "source": [
    "Hyperscript.attrs(svg)"
   ]
  },
  {
   "cell_type": "code",
   "execution_count": 61,
   "id": "b4ae33cb-8dfa-47c5-b245-98076cab0e54",
   "metadata": {},
   "outputs": [
    {
     "data": {
      "text/html": [
       "<svg height=\"100\" width=\"100\"><circle cy=\"100\" stroke=\"black\" r=\"3\" fill=\"blue\" cx=\"0\" /><circle cy=\"50\" stroke=\"black\" r=\"3\" fill=\"blue\" cx=\"25\" /><circle cy=\"50\" stroke=\"black\" r=\"3\" fill=\"blue\" cx=\"75\" /><circle cy=\"100\" stroke=\"black\" r=\"3\" fill=\"blue\" cx=\"100\" /><path style=\"stroke: blue; fill: none\" d=\"M0 100 C 25 50, 75 50,100 100\" /></svg>"
      ],
      "text/plain": [
       "<svg height=\"100\" width=\"100\"><circle cy=\"100\" stroke=\"black\" r=\"3\" fill=\"blue\" cx=\"0\" /><circle cy=\"50\" stroke=\"black\" r=\"3\" fill=\"blue\" cx=\"25\" /><circle cy=\"50\" stroke=\"black\" r=\"3\" fill=\"blue\" cx=\"75\" /><circle cy=\"100\" stroke=\"black\" r=\"3\" fill=\"blue\" cx=\"100\" /><path style=\"stroke: blue; fill: none\" d=\"M0 100 C 25 50, 75 50,100 100\" /></svg>"
      ]
     },
     "execution_count": 61,
     "metadata": {},
     "output_type": "execute_result"
    }
   ],
   "source": [
    "p1 = (0,100)\n",
    "p2 = (25,50)\n",
    "p3 = (75,50)\n",
    "p4 = (100,100)\n",
    "svg = m(\"svg\", width=100, height=100);\n",
    "\n",
    "# svg = svg(m(\"circle\", cx=70, cy =95,r=50, style=\"stroke: black; fill: none\"))\n",
    "svg = svg(m(\"circle\", cx=p1[1], cy =p1[2],r=3, stroke=\"black\", fill=\"blue\"))\n",
    "svg = svg(m(\"circle\", cx=p2[1], cy =p2[2],r=3, stroke=\"black\", fill=\"blue\"))\n",
    "svg = svg(m(\"circle\", cx=p3[1], cy =p3[2],r=3, stroke=\"black\", fill=\"blue\"))\n",
    "svg = svg(m(\"circle\", cx=p4[1], cy =p4[2],r=3, stroke=\"black\", fill=\"blue\"))\n",
    "svg = svg(m(\"path\", d=\"M$(p1[1]) $(p1[2]) C $(p2[1]) $(p2[2]), $(p3[1]) $(p3[2]),$(p4[1]) $(p4[2])\", style=\"stroke: blue; fill: none\"))"
   ]
  },
  {
   "cell_type": "code",
   "execution_count": 57,
   "id": "479b0a67-629c-410d-8548-ce932416b374",
   "metadata": {},
   "outputs": [
    {
     "data": {
      "text/html": [
       "<svg height=\"100\" width=\"100\"><circle cy=\"100\" stroke=\"black\" r=\"3\" fill=\"blue\" cx=\"0\" /><circle cy=\"0\" stroke=\"black\" r=\"3\" fill=\"blue\" cx=\"25\" /><circle cy=\"0\" stroke=\"black\" r=\"3\" fill=\"blue\" cx=\"75\" /><circle cy=\"100\" stroke=\"black\" r=\"3\" fill=\"blue\" cx=\"100\" /><path style=\"stroke: blue; fill: none\" d=\"M0 100 C 25 0, 75 0,100 100\" /></svg>"
      ],
      "text/plain": [
       "<svg height=\"100\" width=\"100\"><circle cy=\"100\" stroke=\"black\" r=\"3\" fill=\"blue\" cx=\"0\" /><circle cy=\"0\" stroke=\"black\" r=\"3\" fill=\"blue\" cx=\"25\" /><circle cy=\"0\" stroke=\"black\" r=\"3\" fill=\"blue\" cx=\"75\" /><circle cy=\"100\" stroke=\"black\" r=\"3\" fill=\"blue\" cx=\"100\" /><path style=\"stroke: blue; fill: none\" d=\"M0 100 C 25 0, 75 0,100 100\" /></svg>"
      ]
     },
     "execution_count": 57,
     "metadata": {},
     "output_type": "execute_result"
    }
   ],
   "source": [
    "p1 = (0,100)\n",
    "p2 = (25,0)\n",
    "p3 = (75,0)\n",
    "p4 = (100,100)\n",
    "svg = m(\"svg\", width=100, height=100);\n",
    "\n",
    "# svg = svg(m(\"circle\", cx=70, cy =95,r=50, style=\"stroke: black; fill: none\"))\n",
    "svg = svg(m(\"circle\", cx=p1[1], cy =p1[2],r=3, stroke=\"black\", fill=\"blue\"))\n",
    "svg = svg(m(\"circle\", cx=p2[1], cy =p2[2],r=3, stroke=\"black\", fill=\"blue\"))\n",
    "svg = svg(m(\"circle\", cx=p3[1], cy =p3[2],r=3, stroke=\"black\", fill=\"blue\"))\n",
    "svg = svg(m(\"circle\", cx=p4[1], cy =p4[2],r=3, stroke=\"black\", fill=\"blue\"))\n",
    "svg = svg(m(\"path\", d=\"M$(p1[1]) $(p1[2]) C $(p2[1]) $(p2[2]), $(p3[1]) $(p3[2]),$(p4[1]) $(p4[2])\", style=\"stroke: blue; fill: none\"))"
   ]
  },
  {
   "cell_type": "code",
   "execution_count": null,
   "id": "8af747de-a8cb-4e6a-a42b-e93a0fe4896a",
   "metadata": {},
   "outputs": [],
   "source": []
  }
 ],
 "metadata": {
  "kernelspec": {
   "display_name": "Julia 1.8.2",
   "language": "julia",
   "name": "julia-1.8"
  },
  "language_info": {
   "file_extension": ".jl",
   "mimetype": "application/julia",
   "name": "julia",
   "version": "1.8.2"
  }
 },
 "nbformat": 4,
 "nbformat_minor": 5
}
