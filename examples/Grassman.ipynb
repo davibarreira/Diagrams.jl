{
 "cells": [
  {
   "cell_type": "code",
   "execution_count": 1,
   "id": "263af60a-3027-4a33-bb82-eef82e6149ff",
   "metadata": {},
   "outputs": [
    {
     "name": "stderr",
     "output_type": "stream",
     "text": [
      "\u001b[32m\u001b[1m  Activating\u001b[22m\u001b[39m project at `~/MEGA/EMAP/Diagrams.jl`\n"
     ]
    }
   ],
   "source": [
    "using Pkg, Revise\n",
    "Pkg.activate(\"../.\")"
   ]
  },
  {
   "cell_type": "code",
   "execution_count": 2,
   "id": "c69b799b-a0b5-4614-acb3-03e4ec07b9bb",
   "metadata": {},
   "outputs": [],
   "source": [
    "using Grassmann\n",
    "using Plots"
   ]
  },
  {
   "cell_type": "code",
   "execution_count": 3,
   "id": "ca658d57-332c-416a-b62d-ecc7ca16a26f",
   "metadata": {},
   "outputs": [
    {
     "data": {
      "text/plain": [
       "(⟨++⟩, v, v₁, v₂, v₁₂)"
      ]
     },
     "execution_count": 3,
     "metadata": {},
     "output_type": "execute_result"
    }
   ],
   "source": [
    "@basis ℝ^2"
   ]
  },
  {
   "cell_type": "code",
   "execution_count": 5,
   "id": "64425a02-3061-4c8c-ba61-b53d6469a70a",
   "metadata": {},
   "outputs": [
    {
     "data": {
      "text/plain": [
       "v₁"
      ]
     },
     "execution_count": 5,
     "metadata": {},
     "output_type": "execute_result"
    }
   ],
   "source": []
  }
 ],
 "metadata": {
  "kernelspec": {
   "display_name": "Julia 1.8.2",
   "language": "julia",
   "name": "julia-1.8"
  },
  "language_info": {
   "file_extension": ".jl",
   "mimetype": "application/julia",
   "name": "julia",
   "version": "1.8.2"
  }
 },
 "nbformat": 4,
 "nbformat_minor": 5
}
