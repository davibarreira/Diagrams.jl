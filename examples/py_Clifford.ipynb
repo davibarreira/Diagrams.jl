{
 "cells": [
  {
   "cell_type": "code",
   "execution_count": 1,
   "id": "49ea2a39-690d-48c9-8523-09df2c22c7c1",
   "metadata": {},
   "outputs": [],
   "source": [
    "from clifford import g3c as cl\n",
    "from clifford.tools.g3c import *"
   ]
  },
  {
   "cell_type": "code",
   "execution_count": 2,
   "id": "afd73db6-5949-4422-ae82-125ca740eca2",
   "metadata": {},
   "outputs": [
    {
     "data": {
      "text/plain": [
       "2.0"
      ]
     },
     "execution_count": 2,
     "metadata": {},
     "output_type": "execute_result"
    }
   ],
   "source": [
    "d = (-4*cl.e1^cl.ep) +(-4*cl.e2^cl.ep) + (-4*cl.e1^cl.en) + (4*cl.en^cl.e2) + (-2*cl.ep^cl.en)\n",
    "\n",
    "abs(d) # norm"
   ]
  },
  {
   "cell_type": "code",
   "execution_count": 45,
   "id": "234ab8d4-6449-43bb-8392-d7744d202e21",
   "metadata": {},
   "outputs": [],
   "source": [
    "def point(x=0,y=0,z=0):\n",
    "    return cl.eo + (x*cl.e1) + (y*cl.e2) + (z*cl.e3) + ((x**2 + y**2 + z**2)/2 * cl.einf)\n",
    "    \n",
    "def get_line(a,b):\n",
    "    return (a ^ b ^ cl.einf).normal()\n",
    "\n",
    "def get_plane(a,b,c):\n",
    "    return (a ^ b ^ c ^cl.einf).normal()"
   ]
  },
  {
   "cell_type": "code",
   "execution_count": 166,
   "id": "3b56dd40-cc6d-4808-a0ee-b2e538883479",
   "metadata": {},
   "outputs": [
    {
     "data": {
      "text/plain": [
       "0"
      ]
     },
     "execution_count": 166,
     "metadata": {},
     "output_type": "execute_result"
    }
   ],
   "source": [
    "a = up(0)\n",
    "b = up(cl.e1 + cl.e2)\n",
    "l1 = (a ^ b ^ cl.einf).normal()\n",
    "\n",
    "a = up(2*cl.e2)\n",
    "b = up(2*cl.e1 + 2*cl.e2)\n",
    "l2 = (a ^ b ^ cl.einf).normal()\n",
    "\n",
    "\n",
    "x = up(2*cl.e1 + 2*cl.e2)\n",
    "meet(l1,l2)"
   ]
  },
  {
   "cell_type": "code",
   "execution_count": 171,
   "id": "fad1331f-51a7-48ca-ba52-4fd407987bca",
   "metadata": {},
   "outputs": [
    {
     "data": {
      "text/plain": [
       "0"
      ]
     },
     "execution_count": 171,
     "metadata": {},
     "output_type": "execute_result"
    }
   ],
   "source": [
    "n = 5\n",
    "\n",
    "\n",
    "(l1*l2)()"
   ]
  },
  {
   "cell_type": "code",
   "execution_count": 140,
   "id": "ce124cf1-52ee-40ac-9f10-5745c5e56ed9",
   "metadata": {},
   "outputs": [],
   "source": [
    "a = point(0,0,0)\n",
    "b = point(1,1,0)\n",
    "l1 = (a ^ b ^ cl.einf).normal()\n",
    "\n",
    "a = point(0,2,1)\n",
    "b = point(2,2,1)\n",
    "l2 = (a ^ b ^ cl.einf).normal()"
   ]
  },
  {
   "cell_type": "code",
   "execution_count": 141,
   "id": "8a228bb9-b877-43f1-afa0-916f6802da0c",
   "metadata": {},
   "outputs": [
    {
     "data": {
      "text/plain": [
       "(0.70711^e4) + (0.70711^e5)"
      ]
     },
     "execution_count": 141,
     "metadata": {},
     "output_type": "execute_result"
    }
   ],
   "source": [
    "meet(l1,l2)"
   ]
  },
  {
   "cell_type": "code",
   "execution_count": 113,
   "id": "38fbf3aa-68f2-4f98-809b-9bee5e596ef8",
   "metadata": {},
   "outputs": [],
   "source": [
    "# midpoint_between_lines(l1,l2)\n",
    "# meet(random_line(),random_line_at_origin())"
   ]
  },
  {
   "cell_type": "code",
   "execution_count": 67,
   "id": "bda450ca-ba97-4210-9a7b-d9670b50f6df",
   "metadata": {},
   "outputs": [
    {
     "data": {
      "text/plain": [
       "(1.0^e1234) + (1.0^e1235) - (1.0^e1245)"
      ]
     },
     "execution_count": 67,
     "metadata": {},
     "output_type": "execute_result"
    }
   ],
   "source": [
    "plane"
   ]
  },
  {
   "cell_type": "code",
   "execution_count": 73,
   "id": "dd04cf6a-7b2e-401c-86f9-6ae19045cfc3",
   "metadata": {},
   "outputs": [
    {
     "data": {
      "text/plain": [
       "(2.0^e14) + (2.0^e15) + (1.0^e34) + (1.0^e35) - (1.0^e45)"
      ]
     },
     "execution_count": 73,
     "metadata": {},
     "output_type": "execute_result"
    }
   ],
   "source": [
    "up(2*e1) == point(2)\n",
    "up(2*e1 + e3) == point(2,0,1)\n",
    "line = (up(2*e1) ^ up(2*e1 + e3) ^ ninf).normal()\n",
    "\n",
    "line == get_line(point(2), point(2,0,1))\n",
    "\n",
    "a = up(e3)\n",
    "b = up(e3 + e1)\n",
    "c = up(e3 + e2)\n",
    "plane = (a ^ b ^ c ^ ninf).normal()\n",
    "\n",
    "plane == get_plane(a,b,c)\n",
    "\n",
    "meet(line, plane)"
   ]
  },
  {
   "cell_type": "code",
   "execution_count": 79,
   "id": "653e3fe5-fef1-4c31-9bf9-678d4a2bd9b3",
   "metadata": {},
   "outputs": [
    {
     "data": {
      "text/plain": [
       "(2.0^e14) + (2.0^e15) + (1.0^e34) + (1.0^e35) - (1.0^e45)"
      ]
     },
     "execution_count": 79,
     "metadata": {},
     "output_type": "execute_result"
    }
   ],
   "source": [
    "fast_dual(fast_dual(line) ^ fast_dual(plane))"
   ]
  },
  {
   "cell_type": "code",
   "execution_count": 75,
   "id": "d2d00647-c098-4610-b76e-c31899a986e0",
   "metadata": {},
   "outputs": [
    {
     "data": {
      "text/plain": [
       "(2.0^e134) + (2.0^e135) + (1.0^e345)"
      ]
     },
     "execution_count": 75,
     "metadata": {},
     "output_type": "execute_result"
    }
   ],
   "source": [
    "line"
   ]
  },
  {
   "cell_type": "code",
   "execution_count": 74,
   "id": "84dba30f-70ef-4684-98bf-4152c0bd42f3",
   "metadata": {},
   "outputs": [
    {
     "data": {
      "text/plain": [
       "(1.0^e1234) + (1.0^e1235) - (1.0^e1245)"
      ]
     },
     "execution_count": 74,
     "metadata": {},
     "output_type": "execute_result"
    }
   ],
   "source": [
    "plane"
   ]
  },
  {
   "cell_type": "code",
   "execution_count": 57,
   "id": "b7ff7194-c5eb-4e05-9f35-f80e3fa7eb4a",
   "metadata": {},
   "outputs": [],
   "source": [
    "line = (up(2*e1) ^ up(2*e1 + e3) ^ ninf).normal()\n",
    "\n",
    "point_result = intersect_line_and_plane_to_point(line, plane)"
   ]
  },
  {
   "cell_type": "code",
   "execution_count": 58,
   "id": "20ac5965-689f-4ac6-b18f-fc78aa67222b",
   "metadata": {},
   "outputs": [
    {
     "data": {
      "text/plain": [
       "(2.0^e1) + (1.5^e4) + (2.5^e5)"
      ]
     },
     "execution_count": 58,
     "metadata": {},
     "output_type": "execute_result"
    }
   ],
   "source": [
    "up(2*e1)"
   ]
  },
  {
   "cell_type": "code",
   "execution_count": 59,
   "id": "c07618cb-dd63-4b2c-8154-334cb904b8fd",
   "metadata": {},
   "outputs": [],
   "source": [
    "p = up(random_euc_mv())\n",
    "p == point(p|cl.e1,p|cl.e2,p|cl.e3)\n",
    "\n",
    "p = random_conformal_point()\n",
    "p == point(p|cl.e1,p|cl.e2,p|cl.e3)\n",
    "\n",
    "l = random_line()"
   ]
  }
 ],
 "metadata": {
  "kernelspec": {
   "display_name": "clifford",
   "language": "python",
   "name": "clifford"
  },
  "language_info": {
   "codemirror_mode": {
    "name": "ipython",
    "version": 3
   },
   "file_extension": ".py",
   "mimetype": "text/x-python",
   "name": "python",
   "nbconvert_exporter": "python",
   "pygments_lexer": "ipython3",
   "version": "3.9.15"
  }
 },
 "nbformat": 4,
 "nbformat_minor": 5
}
